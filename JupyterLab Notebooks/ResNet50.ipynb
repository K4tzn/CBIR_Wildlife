{
 "cells": [
  {
   "cell_type": "code",
   "execution_count": 2,
   "id": "ee0222c4-5a17-4454-9ad0-0baa00944ef4",
   "metadata": {},
   "outputs": [],
   "source": [
    "import os\n",
    "import neptune\n",
    "import torch\n",
    "import json\n",
    "import pandas as pd\n",
    "import numpy as np\n",
    "import matplotlib.pyplot as plt\n",
    "import seaborn as sns\n",
    "from fastai.vision.all import *\n",
    "from sklearn.metrics import accuracy_score, f1_score, precision_score, recall_score, confusion_matrix, classification_report\n",
    "import matplotlib.cm as cm"
   ]
  },
  {
   "cell_type": "code",
   "execution_count": null,
   "id": "3aaceee4-d0e3-47b0-9673-6a26904c22b0",
   "metadata": {},
   "outputs": [
    {
     "name": "stdout",
     "output_type": "stream",
     "text": [
      "cuda\n"
     ]
    }
   ],
   "source": [
    "# Testdatensatz laden\n",
    "DATASET_DIR = \"balanced_dataset_split/balanced_dataset_split\"\n",
    "JSON_PATH = \"train_test_split_new.json\"\n",
    "\n",
    "with open(JSON_PATH, \"r\") as f:\n",
    "    split_data = json.load(f)\n",
    "\n",
    "df_test = pd.DataFrame(split_data[\"test\"])\n",
    "df_test[\"image_path\"] = df_test[\"file_path\"].apply(lambda x: os.path.join(DATASET_DIR, x))\n",
    "\n",
    "# Vokabular für die Labels erstellen\n",
    "vocab = df_test[\"label\"].unique().tolist()\n",
    "\n",
    "# DataBlock für Testdaten\n",
    "dblock = DataBlock(\n",
    "    blocks=(ImageBlock, CategoryBlock(vocab=vocab)),\n",
    "    get_x=ColReader('image_path'),\n",
    "    get_y=ColReader('label'),\n",
    "    splitter=RandomSplitter(valid_pct=0.2, seed=42),\n",
    "    item_tfms=Resize(224),\n",
    ")\n",
    "dls = dblock.dataloaders(df_test, bs=64, num_workers=8)\n",
    "test_dl = dls.test_dl(df_test, with_labels=True)\n",
    "\n",
    "# Device erkennen \n",
    "device = torch.device(\"cuda\" if torch.cuda.is_available() else \"cpu\")\n",
    "print(device)"
   ]
  },
  {
   "cell_type": "code",
   "execution_count": null,
   "id": "ed3aa1c5-6495-4bc9-9b2f-b57b6ce18329",
   "metadata": {},
   "outputs": [
    {
     "data": {
      "text/html": [
       "\n",
       "<style>\n",
       "    /* Turns off some styling */\n",
       "    progress {\n",
       "        /* gets rid of default border in Firefox and Opera. */\n",
       "        border: none;\n",
       "        /* Needs to be in here for Safari polyfill so background images work as expected. */\n",
       "        background-size: auto;\n",
       "    }\n",
       "    progress:not([value]), progress:not([value])::-webkit-progress-bar {\n",
       "        background: repeating-linear-gradient(45deg, #7e7e7e, #7e7e7e 10px, #5c5c5c 10px, #5c5c5c 20px);\n",
       "    }\n",
       "    .progress-bar-interrupted, .progress-bar-interrupted::-webkit-progress-bar {\n",
       "        background: #F44336;\n",
       "    }\n",
       "</style>\n"
      ],
      "text/plain": [
       "<IPython.core.display.HTML object>"
      ]
     },
     "metadata": {},
     "output_type": "display_data"
    },
    {
     "data": {
      "text/html": [],
      "text/plain": [
       "<IPython.core.display.HTML object>"
      ]
     },
     "metadata": {},
     "output_type": "display_data"
    },
    {
     "data": {
      "text/html": [
       "\n",
       "<style>\n",
       "    /* Turns off some styling */\n",
       "    progress {\n",
       "        /* gets rid of default border in Firefox and Opera. */\n",
       "        border: none;\n",
       "        /* Needs to be in here for Safari polyfill so background images work as expected. */\n",
       "        background-size: auto;\n",
       "    }\n",
       "    progress:not([value]), progress:not([value])::-webkit-progress-bar {\n",
       "        background: repeating-linear-gradient(45deg, #7e7e7e, #7e7e7e 10px, #5c5c5c 10px, #5c5c5c 20px);\n",
       "    }\n",
       "    .progress-bar-interrupted, .progress-bar-interrupted::-webkit-progress-bar {\n",
       "        background: #F44336;\n",
       "    }\n",
       "</style>\n"
      ],
      "text/plain": [
       "<IPython.core.display.HTML object>"
      ]
     },
     "metadata": {},
     "output_type": "display_data"
    },
    {
     "data": {
      "text/html": [],
      "text/plain": [
       "<IPython.core.display.HTML object>"
      ]
     },
     "metadata": {},
     "output_type": "display_data"
    },
    {
     "name": "stderr",
     "output_type": "stream",
     "text": [
      "/home/kavo/.conda/envs/Katha/lib/python3.8/site-packages/sklearn/metrics/_classification.py:1471: UndefinedMetricWarning: Precision is ill-defined and being set to 0.0 in labels with no predicted samples. Use `zero_division` parameter to control this behavior.\n",
      "  _warn_prf(average, modifier, msg_start, len(result))\n"
     ]
    },
    {
     "data": {
      "text/html": [
       "\n",
       "<style>\n",
       "    /* Turns off some styling */\n",
       "    progress {\n",
       "        /* gets rid of default border in Firefox and Opera. */\n",
       "        border: none;\n",
       "        /* Needs to be in here for Safari polyfill so background images work as expected. */\n",
       "        background-size: auto;\n",
       "    }\n",
       "    progress:not([value]), progress:not([value])::-webkit-progress-bar {\n",
       "        background: repeating-linear-gradient(45deg, #7e7e7e, #7e7e7e 10px, #5c5c5c 10px, #5c5c5c 20px);\n",
       "    }\n",
       "    .progress-bar-interrupted, .progress-bar-interrupted::-webkit-progress-bar {\n",
       "        background: #F44336;\n",
       "    }\n",
       "</style>\n"
      ],
      "text/plain": [
       "<IPython.core.display.HTML object>"
      ]
     },
     "metadata": {},
     "output_type": "display_data"
    },
    {
     "data": {
      "text/html": [],
      "text/plain": [
       "<IPython.core.display.HTML object>"
      ]
     },
     "metadata": {},
     "output_type": "display_data"
    },
    {
     "data": {
      "text/html": [
       "\n",
       "<style>\n",
       "    /* Turns off some styling */\n",
       "    progress {\n",
       "        /* gets rid of default border in Firefox and Opera. */\n",
       "        border: none;\n",
       "        /* Needs to be in here for Safari polyfill so background images work as expected. */\n",
       "        background-size: auto;\n",
       "    }\n",
       "    progress:not([value]), progress:not([value])::-webkit-progress-bar {\n",
       "        background: repeating-linear-gradient(45deg, #7e7e7e, #7e7e7e 10px, #5c5c5c 10px, #5c5c5c 20px);\n",
       "    }\n",
       "    .progress-bar-interrupted, .progress-bar-interrupted::-webkit-progress-bar {\n",
       "        background: #F44336;\n",
       "    }\n",
       "</style>\n"
      ],
      "text/plain": [
       "<IPython.core.display.HTML object>"
      ]
     },
     "metadata": {},
     "output_type": "display_data"
    },
    {
     "data": {
      "text/html": [],
      "text/plain": [
       "<IPython.core.display.HTML object>"
      ]
     },
     "metadata": {},
     "output_type": "display_data"
    },
    {
     "name": "stderr",
     "output_type": "stream",
     "text": [
      "/home/kavo/.conda/envs/Katha/lib/python3.8/site-packages/sklearn/metrics/_classification.py:1471: UndefinedMetricWarning: Precision is ill-defined and being set to 0.0 in labels with no predicted samples. Use `zero_division` parameter to control this behavior.\n",
      "  _warn_prf(average, modifier, msg_start, len(result))\n"
     ]
    },
    {
     "data": {
      "text/html": [
       "\n",
       "<style>\n",
       "    /* Turns off some styling */\n",
       "    progress {\n",
       "        /* gets rid of default border in Firefox and Opera. */\n",
       "        border: none;\n",
       "        /* Needs to be in here for Safari polyfill so background images work as expected. */\n",
       "        background-size: auto;\n",
       "    }\n",
       "    progress:not([value]), progress:not([value])::-webkit-progress-bar {\n",
       "        background: repeating-linear-gradient(45deg, #7e7e7e, #7e7e7e 10px, #5c5c5c 10px, #5c5c5c 20px);\n",
       "    }\n",
       "    .progress-bar-interrupted, .progress-bar-interrupted::-webkit-progress-bar {\n",
       "        background: #F44336;\n",
       "    }\n",
       "</style>\n"
      ],
      "text/plain": [
       "<IPython.core.display.HTML object>"
      ]
     },
     "metadata": {},
     "output_type": "display_data"
    },
    {
     "data": {
      "text/html": [],
      "text/plain": [
       "<IPython.core.display.HTML object>"
      ]
     },
     "metadata": {},
     "output_type": "display_data"
    },
    {
     "name": "stdout",
     "output_type": "stream",
     "text": [
      "                      Model  Accuracy  F1 Score  Precision    Recall\n",
      "0    basemodel_resnet50_bs8  0.720743  0.722389   0.780043  0.720743\n",
      "1   basemodel_resnet50_bs16  0.774485  0.777069   0.804116  0.774485\n",
      "2   basemodel_resnet50_bs32  0.756906  0.755962   0.789774  0.756906\n",
      "3   basemodel_resnet50_bs64  0.683074  0.681056   0.729749  0.683074\n",
      "4  basemodel_resnet50_bs128  0.669011  0.666898   0.731043  0.669011\n"
     ]
    },
    {
     "name": "stderr",
     "output_type": "stream",
     "text": [
      "/home/kavo/.conda/envs/Katha/lib/python3.8/site-packages/sklearn/metrics/_classification.py:1471: UndefinedMetricWarning: Precision is ill-defined and being set to 0.0 in labels with no predicted samples. Use `zero_division` parameter to control this behavior.\n",
      "  _warn_prf(average, modifier, msg_start, len(result))\n"
     ]
    }
   ],
   "source": [
    "# Evaluate ResNet50 models\n",
    "\n",
    "# Liste der Modelle\n",
    "models = [\n",
    "    \"basemodel_resnet50_bs8\",\n",
    "    \"basemodel_resnet50_bs16\",\n",
    "    \"basemodel_resnet50_bs32\",\n",
    "    \"basemodel_resnet50_bs64\",\n",
    "    \"basemodel_resnet50_bs128\"\n",
    "]\n",
    "\n",
    "# Basispfad zu den .pkl-Dateien\n",
    "base_path = \"basemodel_outputs\"\n",
    "\n",
    "\n",
    "# Ergebnisse speichern\n",
    "results = []\n",
    "\n",
    "for model_name in models:\n",
    "    path = f\"{base_path}/{model_name}.pkl\"\n",
    "    \n",
    "    # Modell laden\n",
    "    learn = load_learner(path)\n",
    "\n",
    "    # Vorhersagen\n",
    "    preds, targs = learn.get_preds(dl=test_dl)\n",
    "    y_pred = torch.argmax(preds, dim=1).numpy()\n",
    "    y_true = targs.numpy()\n",
    "    \n",
    "    # Metriken berechnen\n",
    "    accuracy = accuracy_score(y_true, y_pred)\n",
    "    f1 = f1_score(y_true, y_pred, average='weighted')\n",
    "    precision = precision_score(y_true, y_pred, average='weighted')\n",
    "    recall = recall_score(y_true, y_pred, average='weighted')\n",
    "    \n",
    "    results.append({\n",
    "        \"Model\": model_name,\n",
    "        \"Accuracy\": accuracy,\n",
    "        \"F1 Score\": f1,\n",
    "        \"Precision\": precision,\n",
    "        \"Recall\": recall\n",
    "    })\n",
    "\n",
    "# DataFrame mit Ergebnissen\n",
    "df_results = pd.DataFrame(results)\n",
    "print(df_results)\n"
   ]
  },
  {
   "cell_type": "code",
   "execution_count": null,
   "id": "544f5f99-a9ba-400e-a14f-62418b0d1d6b",
   "metadata": {},
   "outputs": [
    {
     "name": "stderr",
     "output_type": "stream",
     "text": [
      "/tmp/ipykernel_5798/936469739.py:13: MatplotlibDeprecationWarning: The get_cmap function was deprecated in Matplotlib 3.7 and will be removed two minor releases later. Use ``matplotlib.colormaps[name]`` or ``matplotlib.colormaps.get_cmap(obj)`` instead.\n",
      "  cmap = cm.get_cmap('Blues')\n"
     ]
    },
    {
     "data": {
      "image/png": "[encoded data removed]",
      "text/plain": [
       "<Figure size 1200x500 with 1 Axes>"
      ]
     },
     "metadata": {},
     "output_type": "display_data"
    }
   ],
   "source": [
    "# Metriken & Modelle\n",
    "metrics = ['Accuracy', 'F1 Score', 'Precision', 'Recall']\n",
    "n_metrics = len(metrics)\n",
    "n_models = len(df_results)\n",
    "group_width = 1.2  \n",
    "bar_width = group_width / n_models\n",
    "gap = 0.5  \n",
    "\n",
    "# X-Positionen der Metrikgruppen\n",
    "x = np.arange(n_metrics) * (1 + gap)\n",
    "\n",
    "# Farben aus der \"Blues\"-Colormap\n",
    "cmap = cm.get_cmap('Blues')\n",
    "colors = [cmap(0.3 + 0.8 * i / max(1, n_models - 1)) for i in range(n_models)]\n",
    "\n",
    "# Mapping der Modellnamen für schönere Beschriftung\n",
    "label_map = {\n",
    "    \"basemodel_resnet50_bs8\": \"8\",\n",
    "    \"basemodel_resnet50_bs16\": \"16\",\n",
    "    \"basemodel_resnet50_bs32\": \"32\",\n",
    "    \"basemodel_resnet50_bs64\": \"64\",\n",
    "    \"basemodel_resnet50_bs128\": \"128\"\n",
    "}\n",
    "\n",
    "# Plot\n",
    "fig, ax = plt.subplots(figsize=(12, 5))\n",
    "\n",
    "for i, (idx, row) in enumerate(df_results.iterrows()):\n",
    "    scores = [row[m] for m in metrics]\n",
    "    offset = x + i * bar_width - group_width / 2 + bar_width / 2\n",
    "    label = label_map.get(row['Model'], row['Model'])\n",
    "    ax.bar(offset, scores, width=bar_width, label=label, color=colors[i])\n",
    "\n",
    "# Achsen & Styling\n",
    "ax.set_ylabel('Score', fontsize=12)\n",
    "ax.set_title('Metrics for ResNet50 with different batch sizes', fontsize=12)\n",
    "ax.set_xticks(x)\n",
    "ax.set_xticklabels(metrics, fontsize=12)\n",
    "ax.set_yticks(np.linspace(0, 1.0, 6))\n",
    "ax.tick_params(axis='y', labelsize=12)\n",
    "ax.tick_params(axis='x', labelsize=12)\n",
    "ax.set_ylim(0, 1.05)\n",
    "\n",
    "# Legende\n",
    "ax.legend(title=\"Batch Size\", title_fontsize=12, fontsize=10, bbox_to_anchor=(1.05, 1), loc='upper left')\n",
    "\n",
    "# Gitter und Layout\n",
    "plt.grid(True, axis='y', linestyle='--', alpha=0.7)\n",
    "plt.tight_layout()\n",
    "plt.savefig(\"images/resnet50_batchsize_metrics.png\", dpi=300)\n",
    "plt.show()"
   ]
  },
  {
   "cell_type": "code",
   "execution_count": 4,
   "id": "4fe20778-523e-40ef-b8d3-8962f929f4d9",
   "metadata": {},
   "outputs": [
    {
     "data": {
      "text/html": [
       "\n",
       "<style>\n",
       "    /* Turns off some styling */\n",
       "    progress {\n",
       "        /* gets rid of default border in Firefox and Opera. */\n",
       "        border: none;\n",
       "        /* Needs to be in here for Safari polyfill so background images work as expected. */\n",
       "        background-size: auto;\n",
       "    }\n",
       "    progress:not([value]), progress:not([value])::-webkit-progress-bar {\n",
       "        background: repeating-linear-gradient(45deg, #7e7e7e, #7e7e7e 10px, #5c5c5c 10px, #5c5c5c 20px);\n",
       "    }\n",
       "    .progress-bar-interrupted, .progress-bar-interrupted::-webkit-progress-bar {\n",
       "        background: #F44336;\n",
       "    }\n",
       "</style>\n"
      ],
      "text/plain": [
       "<IPython.core.display.HTML object>"
      ]
     },
     "metadata": {},
     "output_type": "display_data"
    },
    {
     "data": {
      "text/html": [],
      "text/plain": [
       "<IPython.core.display.HTML object>"
      ]
     },
     "metadata": {},
     "output_type": "display_data"
    },
    {
     "name": "stderr",
     "output_type": "stream",
     "text": [
      "/home/kavo/.conda/envs/Katha/lib/python3.8/site-packages/sklearn/metrics/_classification.py:1471: UndefinedMetricWarning: Precision is ill-defined and being set to 0.0 in labels with no predicted samples. Use `zero_division` parameter to control this behavior.\n",
      "  _warn_prf(average, modifier, msg_start, len(result))\n"
     ]
    },
    {
     "data": {
      "text/html": [
       "\n",
       "<style>\n",
       "    /* Turns off some styling */\n",
       "    progress {\n",
       "        /* gets rid of default border in Firefox and Opera. */\n",
       "        border: none;\n",
       "        /* Needs to be in here for Safari polyfill so background images work as expected. */\n",
       "        background-size: auto;\n",
       "    }\n",
       "    progress:not([value]), progress:not([value])::-webkit-progress-bar {\n",
       "        background: repeating-linear-gradient(45deg, #7e7e7e, #7e7e7e 10px, #5c5c5c 10px, #5c5c5c 20px);\n",
       "    }\n",
       "    .progress-bar-interrupted, .progress-bar-interrupted::-webkit-progress-bar {\n",
       "        background: #F44336;\n",
       "    }\n",
       "</style>\n"
      ],
      "text/plain": [
       "<IPython.core.display.HTML object>"
      ]
     },
     "metadata": {},
     "output_type": "display_data"
    },
    {
     "data": {
      "text/html": [],
      "text/plain": [
       "<IPython.core.display.HTML object>"
      ]
     },
     "metadata": {},
     "output_type": "display_data"
    },
    {
     "data": {
      "text/html": [
       "\n",
       "<style>\n",
       "    /* Turns off some styling */\n",
       "    progress {\n",
       "        /* gets rid of default border in Firefox and Opera. */\n",
       "        border: none;\n",
       "        /* Needs to be in here for Safari polyfill so background images work as expected. */\n",
       "        background-size: auto;\n",
       "    }\n",
       "    progress:not([value]), progress:not([value])::-webkit-progress-bar {\n",
       "        background: repeating-linear-gradient(45deg, #7e7e7e, #7e7e7e 10px, #5c5c5c 10px, #5c5c5c 20px);\n",
       "    }\n",
       "    .progress-bar-interrupted, .progress-bar-interrupted::-webkit-progress-bar {\n",
       "        background: #F44336;\n",
       "    }\n",
       "</style>\n"
      ],
      "text/plain": [
       "<IPython.core.display.HTML object>"
      ]
     },
     "metadata": {},
     "output_type": "display_data"
    },
    {
     "data": {
      "text/html": [],
      "text/plain": [
       "<IPython.core.display.HTML object>"
      ]
     },
     "metadata": {},
     "output_type": "display_data"
    },
    {
     "name": "stdout",
     "output_type": "stream",
     "text": [
      "                     Model  Accuracy  F1 Score  Precision    Recall\n",
      "0  basemodel_resnet50_bs16  0.774485  0.777069   0.804116  0.774485\n",
      "1        resnet50_bs16+aug  0.776996  0.780352   0.810589  0.776996\n",
      "2   resnet50_bs16+aug+iNat  0.802109  0.806529   0.828997  0.802109\n"
     ]
    }
   ],
   "source": [
    "# Evaluation Tuning with GoogLeNet\n",
    "\n",
    "# Liste der Modelle\n",
    "models = [\n",
    "    \"basemodel_resnet50_bs16\",\n",
    "    \"resnet50_bs16+aug\",\n",
    "    \"resnet50_bs16+aug+iNat\"\n",
    "]\n",
    "\n",
    "# Basispfad zu den .pkl-Dateien\n",
    "base_path = \"basemodel_outputs\"\n",
    "\n",
    "\n",
    "# Ergebnisse speichern\n",
    "results = []\n",
    "\n",
    "for model_name in models:\n",
    "    path = f\"{base_path}/{model_name}.pkl\"\n",
    "    \n",
    "    # Modell laden\n",
    "    learn = load_learner(path)\n",
    "\n",
    "    # Vorhersagen\n",
    "    preds, targs = learn.get_preds(dl=test_dl)\n",
    "    y_pred = torch.argmax(preds, dim=1).numpy()\n",
    "    y_true = targs.numpy()\n",
    "    \n",
    "    # Metriken berechnen\n",
    "    accuracy = accuracy_score(y_true, y_pred)\n",
    "    f1 = f1_score(y_true, y_pred, average='weighted')\n",
    "    precision = precision_score(y_true, y_pred, average='weighted')\n",
    "    recall = recall_score(y_true, y_pred, average='weighted')\n",
    "    \n",
    "    results.append({\n",
    "        \"Model\": model_name,\n",
    "        \"Accuracy\": accuracy,\n",
    "        \"F1 Score\": f1,\n",
    "        \"Precision\": precision,\n",
    "        \"Recall\": recall\n",
    "    })\n",
    "\n",
    "# DataFrame mit Ergebnissen\n",
    "df_results = pd.DataFrame(results)\n",
    "print(df_results)\n"
   ]
  },
  {
   "cell_type": "code",
   "execution_count": null,
   "id": "66c3c212-a5a0-428a-af80-21f264596580",
   "metadata": {},
   "outputs": [
    {
     "name": "stderr",
     "output_type": "stream",
     "text": [
      "/tmp/ipykernel_2710171/2556102674.py:13: MatplotlibDeprecationWarning: The get_cmap function was deprecated in Matplotlib 3.7 and will be removed two minor releases later. Use ``matplotlib.colormaps[name]`` or ``matplotlib.colormaps.get_cmap(obj)`` instead.\n",
      "  cmap = cm.get_cmap('Blues')\n"
     ]
    },
    {
     "data": {
      "image/png": "[encoded data removed]",
      "text/plain": [
       "<Figure size 1100x300 with 1 Axes>"
      ]
     },
     "metadata": {},
     "output_type": "display_data"
    }
   ],
   "source": [
    "# Metriken & Modelle\n",
    "metrics = ['Accuracy', 'F1 Score', 'Precision', 'Recall']\n",
    "n_metrics = len(metrics)\n",
    "n_models = len(df_results)\n",
    "group_width = 1.2 \n",
    "bar_width = group_width / n_models\n",
    "gap = 0.5 \n",
    "\n",
    "# X-Positionen der Metrikgruppen\n",
    "x = np.arange(n_metrics) * (1 + gap)\n",
    "\n",
    "# Farben aus der \"Blues\"-Colormap\n",
    "cmap = cm.get_cmap('Blues')\n",
    "colors = [cmap(0.3 + 0.8 * i / max(1, n_models - 1)) for i in range(n_models)]\n",
    "\n",
    "# Mapping der Modellnamen für schönere Beschriftung\n",
    "label_map = {\n",
    "    \"basemodel_resnet50_bs16\": \"ResNet50 Basemodel\",\n",
    "    \"resnet50_bs16+aug\": \"ResNet50 with augmented images\",\n",
    "    \"resnet50_bs16+aug+iNat\": \"ResNet50 with augmented & scraped images\"\n",
    "}\n",
    "\n",
    "# Plot\n",
    "fig, ax = plt.subplots(figsize=(11, 3))\n",
    "\n",
    "for i, (idx, row) in enumerate(df_results.iterrows()):\n",
    "    scores = [row[m] for m in metrics]\n",
    "    offset = x + i * bar_width - group_width / 2 + bar_width / 2\n",
    "    label = label_map.get(row['Model'], row['Model']) \n",
    "    ax.bar(offset, scores, width=bar_width, label=label, color=colors[i])\n",
    "\n",
    "# Achsen & Styling\n",
    "ax.set_ylabel('Score', fontsize=11)\n",
    "ax.set_title('GoogLeNet Performance with Data Augmentation and External Data Integration')\n",
    "ax.set_xticks(x)\n",
    "ax.set_xticklabels(metrics, fontsize=11)\n",
    "ax.set_ylim(0.7, 1.0)\n",
    "ax.legend(title=\"Models\", title_fontsize=12, bbox_to_anchor=(1.05, 1), loc='upper left', fontsize=10)\n",
    "plt.grid(True, axis='y', linestyle='--', alpha=0.7)\n",
    "plt.tight_layout()\n",
    "plt.savefig(\"images/GoogLeNet_tuning_metrics.png\", dpi=300)\n",
    "plt.show()"
   ]
  }
 ],
 "metadata": {
  "kernelspec": {
   "display_name": "Katha",
   "language": "python",
   "name": "katha"
  },
  "language_info": {
   "codemirror_mode": {
    "name": "ipython",
    "version": 3
   },
   "file_extension": ".py",
   "mimetype": "text/x-python",
   "name": "python",
   "nbconvert_exporter": "python",
   "pygments_lexer": "ipython3",
   "version": "3.8.19"
  }
 },
 "nbformat": 4,
 "nbformat_minor": 5
}
