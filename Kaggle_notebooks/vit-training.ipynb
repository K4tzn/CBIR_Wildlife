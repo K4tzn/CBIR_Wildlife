{
 "cells": [
  {
   "cell_type": "code",
   "execution_count": null,
   "id": "ee04975a",
   "metadata": {
    "_cell_guid": "b1076dfc-b9ad-4769-8c92-a6c4dae69d19",
    "_uuid": "8f2839f25d086af736a60e9eeb907d3b93b6e0e5",
    "execution": {
     "iopub.execute_input": "2025-04-06T12:28:53.880773Z",
     "iopub.status.busy": "2025-04-06T12:28:53.880391Z",
     "iopub.status.idle": "2025-04-06T12:29:02.472437Z",
     "shell.execute_reply": "2025-04-06T12:29:02.471475Z"
    },
    "papermill": {
     "duration": 8.598479,
     "end_time": "2025-04-06T12:29:02.474202",
     "exception": false,
     "start_time": "2025-04-06T12:28:53.875723",
     "status": "completed"
    },
    "tags": []
   },
   "outputs": [],
   "source": [
    "!pip install neptune"
   ]
  },
  {
   "cell_type": "code",
   "execution_count": 2,
   "id": "b3fd0e2d",
   "metadata": {
    "execution": {
     "iopub.execute_input": "2025-04-06T12:29:02.484259Z",
     "iopub.status.busy": "2025-04-06T12:29:02.483993Z",
     "iopub.status.idle": "2025-04-06T12:29:16.583910Z",
     "shell.execute_reply": "2025-04-06T12:29:16.583166Z"
    },
    "papermill": {
     "duration": 14.1063,
     "end_time": "2025-04-06T12:29:16.585410",
     "exception": false,
     "start_time": "2025-04-06T12:29:02.479110",
     "status": "completed"
    },
    "tags": []
   },
   "outputs": [],
   "source": [
    "import os\n",
    "import json\n",
    "import torch\n",
    "import pandas as pd\n",
    "import matplotlib.pyplot as plt\n",
    "from fastai.vision.all import *\n",
    "from timm import create_model\n",
    "import neptune\n",
    "from PIL import ImageFile\n",
    "ImageFile.LOAD_TRUNCATED_IMAGES = True"
   ]
  },
  {
   "cell_type": "code",
   "execution_count": null,
   "id": "523b31b6",
   "metadata": {
    "execution": {
     "iopub.execute_input": "2025-04-06T12:29:16.595289Z",
     "iopub.status.busy": "2025-04-06T12:29:16.594827Z",
     "iopub.status.idle": "2025-04-06T12:29:16.670289Z",
     "shell.execute_reply": "2025-04-06T12:29:16.669290Z"
    },
    "papermill": {
     "duration": 0.081654,
     "end_time": "2025-04-06T12:29:16.671670",
     "exception": false,
     "start_time": "2025-04-06T12:29:16.590016",
     "status": "completed"
    },
    "tags": []
   },
   "outputs": [
    {
     "name": "stdout",
     "output_type": "stream",
     "text": [
      "✅ Trainingsdaten: 7900 Bilder, Testdaten: 1991 Bilder\n",
      "['acinonyx jubatus', 'antidorcas marsupialis', 'canis mesomelas', 'cn-francolins', 'cn-owls', 'cn-raptors', 'columbidae', 'corvus albus', 'corvus capensis', 'crocuta crocuta', 'diceros bicornis', 'equus asinus', 'equus zebra hartmannae', 'eupodotis rueppellii', 'giraffa camelopardalis', 'hyaena brunnea', 'hystrix africaeaustralis', 'lepus capensis', 'loxodanta africana', 'mellivora capensis', 'neotis ludwigii', 'numididae', 'oreotragus oreotragus', 'oryx gazella', 'otocyon megalotis', 'panthera leo', 'panthera pardus', 'papio anubis', 'procavia capensis', 'pronolagus randensis', 'pteroclidae', 'raphiceros campestris', 'struthio camelus', 'torgos tracheliotos', 'tragelaphus strepsiceros', 'vulpes chama']\n",
      "36\n"
     ]
    }
   ],
   "source": [
    "# === Pfade definieren ===\n",
    "DATASET_DIR = \"/kaggle/input/wildlife-trap-images/balanced_dataset_split(ohne aves)/balanced_dataset_split\"\n",
    "JSON_PATH = \"/kaggle/input/wildlife-trap-images/train_test_split_new.json\"\n",
    "OUTPUT_DIR = \"/kaggle/working/model_outputs\"\n",
    "os.makedirs(OUTPUT_DIR, exist_ok=True)\n",
    "\n",
    "\n",
    "# === JSON mit Train/Test-Split laden ===\n",
    "with open(JSON_PATH, \"r\") as f:\n",
    "    split_data = json.load(f)\n",
    "\n",
    "df_train = pd.DataFrame(split_data[\"train\"])\n",
    "df_test = pd.DataFrame(split_data[\"test\"])\n",
    "\n",
    "df_train[\"image_path\"] = df_train[\"file_path\"].apply(lambda x: os.path.join(DATASET_DIR, x))\n",
    "df_test[\"image_path\"] = df_test[\"file_path\"].apply(lambda x: os.path.join(DATASET_DIR, x))\n",
    "\n",
    "print(f\"Trainingsdaten: {len(df_train)} Bilder, Testdaten: {len(df_test)} Bilder\")\n",
    "\n",
    "print(df_train[\"label\"].unique().tolist())\n",
    "print(len(df_train[\"label\"].unique().tolist()))"
   ]
  },
  {
   "cell_type": "code",
   "execution_count": null,
   "id": "31b16c04",
   "metadata": {
    "execution": {
     "iopub.execute_input": "2025-04-06T12:29:16.681025Z",
     "iopub.status.busy": "2025-04-06T12:29:16.680756Z",
     "iopub.status.idle": "2025-04-06T12:29:17.195006Z",
     "shell.execute_reply": "2025-04-06T12:29:17.193899Z"
    },
    "papermill": {
     "duration": 0.521227,
     "end_time": "2025-04-06T12:29:17.197254",
     "exception": false,
     "start_time": "2025-04-06T12:29:16.676027",
     "status": "completed"
    },
    "tags": []
   },
   "outputs": [
    {
     "name": "stdout",
     "output_type": "stream",
     "text": [
      "['vulpes chama' 'cn-owls' 'numididae' 'lepus capensis' 'corvus capensis'\n",
      " 'tragelaphus strepsiceros' 'equus asinus' 'oreotragus oreotragus'\n",
      " 'cn-francolins' 'procavia capensis' 'columbidae' 'otocyon megalotis'\n",
      " 'mellivora capensis' 'eupodotis rueppellii' 'papio anubis'\n",
      " 'raphiceros campestris' 'pronolagus randensis']\n",
      "✅ Nach Ergänzung: 12937 Trainingsbilder\n"
     ]
    }
   ],
   "source": [
    "EXTRA_IMAGES_DIR = \"/kaggle/input/wildlife-trap-images/augmented_dataset_new(ohne aves)/augmented_dataset_new\" # Augmentierte Bilder\n",
    "\n",
    "INAT_IMAGES = \"/kaggle/input/wildlife-trap-images/inat_images/inat_images\"\n",
    "\n",
    "# Neue Bilder sammeln\n",
    "extra_data = []\n",
    "\n",
    "# Durch alle Unterordner in EXTRA_IMAGES_DIR iterieren\n",
    "for category in os.listdir(EXTRA_IMAGES_DIR):\n",
    "    category_path = os.path.join(EXTRA_IMAGES_DIR, category)\n",
    "    \n",
    "    # Nur Ordner berücksichtigen (keine einzelnen Dateien)\n",
    "    if os.path.isdir(category_path):\n",
    "        image_files = [f for f in os.listdir(category_path) if f.lower().endswith(('.jpg', '.jpeg', '.png'))]\n",
    "        \n",
    "        for img in image_files:\n",
    "            extra_data.append({\n",
    "                \"file_path\": os.path.join(category_path, img),\n",
    "                \"label\": category\n",
    "            })\n",
    "\n",
    "# NAT_IMAGES ergänzen\n",
    "for category in os.listdir(INAT_IMAGES):\n",
    "    category_path = os.path.join(INAT_IMAGES, category)\n",
    "    \n",
    "    if os.path.isdir(category_path):\n",
    "        image_files = [f for f in os.listdir(category_path) if f.lower().endswith(('.jpg', '.jpeg', '.png'))]\n",
    "        \n",
    "        for img in image_files:\n",
    "            extra_data.append({\n",
    "                \"file_path\": os.path.join(category_path, img),\n",
    "                \"label\": category\n",
    "            })\n",
    "            \n",
    "# Neuen DataFrame für zusätzliche Bilder erstellen\n",
    "df_extra = pd.DataFrame(extra_data)\n",
    "df_extra[\"image_path\"] = df_extra[\"file_path\"]\n",
    "\n",
    "# \"_\" durch \" \" in den Labels des neuen Datensatzes ersetzen\n",
    "df_extra[\"label\"] = df_extra[\"label\"].str.replace(\"_\", \" \")\n",
    "\n",
    "# Trainings-DataFrame mit den korrigierten Labels aktualisieren\n",
    "df_train = pd.concat([df_train, df_extra], ignore_index=True)\n",
    "\n",
    "print(df_extra[\"label\"].unique())\n",
    "\n",
    "print(f\"Nach Ergänzung: {len(df_train)} Trainingsbilder\")"
   ]
  },
  {
   "cell_type": "code",
   "execution_count": 5,
   "id": "6384b42a",
   "metadata": {
    "execution": {
     "iopub.execute_input": "2025-04-06T12:29:17.215118Z",
     "iopub.status.busy": "2025-04-06T12:29:17.214733Z",
     "iopub.status.idle": "2025-04-06T12:29:17.302516Z",
     "shell.execute_reply": "2025-04-06T12:29:17.301490Z"
    },
    "papermill": {
     "duration": 0.099749,
     "end_time": "2025-04-06T12:29:17.305538",
     "exception": false,
     "start_time": "2025-04-06T12:29:17.205789",
     "status": "completed"
    },
    "tags": []
   },
   "outputs": [
    {
     "name": "stdout",
     "output_type": "stream",
     "text": [
      "['acinonyx jubatus', 'antidorcas marsupialis', 'canis mesomelas', 'cn-francolins', 'cn-owls', 'cn-raptors', 'columbidae', 'corvus albus', 'corvus capensis', 'crocuta crocuta', 'diceros bicornis', 'equus asinus', 'equus zebra hartmannae', 'eupodotis rueppellii', 'giraffa camelopardalis', 'hyaena brunnea', 'hystrix africaeaustralis', 'lepus capensis', 'loxodanta africana', 'mellivora capensis', 'neotis ludwigii', 'numididae', 'oreotragus oreotragus', 'oryx gazella', 'otocyon megalotis', 'panthera leo', 'panthera pardus', 'papio anubis', 'procavia capensis', 'pronolagus randensis', 'pteroclidae', 'raphiceros campestris', 'struthio camelus', 'torgos tracheliotos', 'tragelaphus strepsiceros', 'vulpes chama']\n",
      "36\n"
     ]
    },
    {
     "name": "stderr",
     "output_type": "stream",
     "text": [
      "<ipython-input-5-be42cec4a291>:3: DeprecationWarning: DataFrameGroupBy.apply operated on the grouping columns. This behavior is deprecated, and in a future version of pandas the grouping columns will be excluded from the operation. Either pass `include_groups=False` to exclude the groupings or explicitly select the grouping columns after groupby to silence this warning.\n",
      "  df_train_sampled = df_train.groupby('label', group_keys=False).apply(\n",
      "<ipython-input-5-be42cec4a291>:17: DeprecationWarning: DataFrameGroupBy.apply operated on the grouping columns. This behavior is deprecated, and in a future version of pandas the grouping columns will be excluded from the operation. Either pass `include_groups=False` to exclude the groupings or explicitly select the grouping columns after groupby to silence this warning.\n",
      "  df_test_sampled = df_test.groupby('label', group_keys=False).apply(\n"
     ]
    }
   ],
   "source": [
    "# Ensure at least one image per category in df_train_sampled\n",
    "min_per_category = 2\n",
    "df_train_sampled = df_train.groupby('label', group_keys=False).apply(\n",
    "    lambda x: x.sample(n=min(len(x), min_per_category), random_state=42)\n",
    ").reset_index(drop=True)\n",
    "\n",
    "# Fill up to 100 samples if more data is available\n",
    "remaining_samples = 100 - len(df_train_sampled)\n",
    "if remaining_samples > 0:\n",
    "    df_remaining = df_train[~df_train.index.isin(df_train_sampled.index)]\n",
    "    if len(df_remaining) >= remaining_samples:  # Ensure we have enough samples\n",
    "        df_train_sampled = pd.concat([df_train_sampled, df_remaining.sample(n=remaining_samples, random_state=42)])\n",
    "    else:\n",
    "        df_train_sampled = pd.concat([df_train_sampled, df_remaining])  # Take all remaining samples\n",
    "\n",
    "# Ensure at least one image per category in df_test_sampled\n",
    "df_test_sampled = df_test.groupby('label', group_keys=False).apply(\n",
    "    lambda x: x.sample(n=min(len(x), 1), random_state=42)\n",
    ").reset_index(drop=True)\n",
    "\n",
    "# Vokabular aus Labels erstellen\n",
    "vocab = df_train[\"label\"].unique().tolist()\n",
    "#vocab = df_train_sampled[\"label\"].unique().tolist()\n",
    "\n",
    "print(df_train[\"label\"].unique().tolist())\n",
    "print(len(df_train[\"label\"].unique().tolist()))\n"
   ]
  },
  {
   "cell_type": "code",
   "execution_count": 6,
   "id": "a280d87a",
   "metadata": {
    "execution": {
     "iopub.execute_input": "2025-04-06T12:29:17.321969Z",
     "iopub.status.busy": "2025-04-06T12:29:17.321540Z",
     "iopub.status.idle": "2025-04-06T12:29:17.327400Z",
     "shell.execute_reply": "2025-04-06T12:29:17.326441Z"
    },
    "papermill": {
     "duration": 0.014541,
     "end_time": "2025-04-06T12:29:17.329047",
     "exception": false,
     "start_time": "2025-04-06T12:29:17.314506",
     "status": "completed"
    },
    "tags": []
   },
   "outputs": [
    {
     "name": "stdout",
     "output_type": "stream",
     "text": [
      "Länge Vocab:  36\n"
     ]
    }
   ],
   "source": [
    "print(\"Länge Vocab: \", len(vocab))"
   ]
  },
  {
   "cell_type": "code",
   "execution_count": null,
   "id": "ff4555fe",
   "metadata": {
    "execution": {
     "iopub.execute_input": "2025-04-06T12:29:17.341057Z",
     "iopub.status.busy": "2025-04-06T12:29:17.340769Z",
     "iopub.status.idle": "2025-04-06T15:00:32.250650Z",
     "shell.execute_reply": "2025-04-06T15:00:32.249744Z"
    },
    "papermill": {
     "duration": 9074.917706,
     "end_time": "2025-04-06T15:00:32.251987",
     "exception": false,
     "start_time": "2025-04-06T12:29:17.334281",
     "status": "completed"
    },
    "tags": []
   },
   "outputs": [
    {
     "name": "stdout",
     "output_type": "stream",
     "text": [
      "\n",
      "🚀 Starte Training mit Batch Size = 64\n"
     ]
    },
    {
     "name": "stderr",
     "output_type": "stream",
     "text": [
      "[neptune] [warning] NeptuneWarning: By default, these monitoring options are disabled in interactive sessions: 'capture_stdout', 'capture_stderr', 'capture_traceback', 'capture_hardware_metrics'. You can set them to 'True' when initializing the run and the monitoring will continue until you call run.stop() or the kernel stops. NOTE: To track the source files, pass their paths to the 'source_code' argument. For help, see: https://docs.neptune.ai/logging/source_code/\n"
     ]
    },
    {
     "name": "stdout",
     "output_type": "stream",
     "text": [
      "[neptune] [info   ] Neptune initialized. Open in the app: https://app.neptune.ai/katzn13/DL-models/e/DLMOD-120\n"
     ]
    },
    {
     "data": {
      "application/vnd.jupyter.widget-view+json": {
       "model_id": "6b0d679de62d452dbe2c75c74cfe7aaa",
       "version_major": 2,
       "version_minor": 0
      },
      "text/plain": [
       "model.safetensors:   0%|          | 0.00/346M [00:00<?, ?B/s]"
      ]
     },
     "metadata": {},
     "output_type": "display_data"
    },
    {
     "name": "stderr",
     "output_type": "stream",
     "text": [
      "/usr/local/lib/python3.10/dist-packages/fastai/callback/fp16.py:47: FutureWarning: `torch.cuda.amp.autocast(args...)` is deprecated. Please use `torch.amp.autocast('cuda', args...)` instead.\n",
      "  self.autocast,self.learn.scaler,self.scales = autocast(dtype=dtype),GradScaler(**self.kwargs),L()\n",
      "/usr/local/lib/python3.10/dist-packages/fastai/callback/fp16.py:47: FutureWarning: `torch.cuda.amp.GradScaler(args...)` is deprecated. Please use `torch.amp.GradScaler('cuda', args...)` instead.\n",
      "  self.autocast,self.learn.scaler,self.scales = autocast(dtype=dtype),GradScaler(**self.kwargs),L()\n"
     ]
    },
    {
     "data": {
      "text/html": [
       "\n",
       "<style>\n",
       "    /* Turns off some styling */\n",
       "    progress {\n",
       "        /* gets rid of default border in Firefox and Opera. */\n",
       "        border: none;\n",
       "        /* Needs to be in here for Safari polyfill so background images work as expected. */\n",
       "        background-size: auto;\n",
       "    }\n",
       "    progress:not([value]), progress:not([value])::-webkit-progress-bar {\n",
       "        background: repeating-linear-gradient(45deg, #7e7e7e, #7e7e7e 10px, #5c5c5c 10px, #5c5c5c 20px);\n",
       "    }\n",
       "    .progress-bar-interrupted, .progress-bar-interrupted::-webkit-progress-bar {\n",
       "        background: #F44336;\n",
       "    }\n",
       "</style>\n"
      ],
      "text/plain": [
       "<IPython.core.display.HTML object>"
      ]
     },
     "metadata": {},
     "output_type": "display_data"
    },
    {
     "data": {
      "text/html": [],
      "text/plain": [
       "<IPython.core.display.HTML object>"
      ]
     },
     "metadata": {},
     "output_type": "display_data"
    },
    {
     "name": "stderr",
     "output_type": "stream",
     "text": [
      "/usr/local/lib/python3.10/dist-packages/fastai/learner.py:53: FutureWarning: You are using `torch.load` with `weights_only=False` (the current default value), which uses the default pickle module implicitly. It is possible to construct malicious pickle data which will execute arbitrary code during unpickling (See https://github.com/pytorch/pytorch/blob/main/SECURITY.md#untrusted-models for more details). In a future release, the default value for `weights_only` will be flipped to `True`. This limits the functions that could be executed during unpickling. Arbitrary objects will no longer be allowed to be loaded via this mode unless they are explicitly allowlisted by the user via `torch.serialization.add_safe_globals`. We recommend you start setting `weights_only=True` for any use case where you don't have full control of the loaded file. Please open an issue on GitHub for any issues related to this experimental feature.\n",
      "  state = torch.load(file, map_location=device, **torch_load_kwargs)\n"
     ]
    },
    {
     "name": "stdout",
     "output_type": "stream",
     "text": [
      "🧠 Empfohlene Lernrate (bs=64): 3.0199516913853586e-05\n"
     ]
    },
    {
     "data": {
      "text/html": [
       "\n",
       "<style>\n",
       "    /* Turns off some styling */\n",
       "    progress {\n",
       "        /* gets rid of default border in Firefox and Opera. */\n",
       "        border: none;\n",
       "        /* Needs to be in here for Safari polyfill so background images work as expected. */\n",
       "        background-size: auto;\n",
       "    }\n",
       "    progress:not([value]), progress:not([value])::-webkit-progress-bar {\n",
       "        background: repeating-linear-gradient(45deg, #7e7e7e, #7e7e7e 10px, #5c5c5c 10px, #5c5c5c 20px);\n",
       "    }\n",
       "    .progress-bar-interrupted, .progress-bar-interrupted::-webkit-progress-bar {\n",
       "        background: #F44336;\n",
       "    }\n",
       "</style>\n"
      ],
      "text/plain": [
       "<IPython.core.display.HTML object>"
      ]
     },
     "metadata": {},
     "output_type": "display_data"
    },
    {
     "data": {
      "text/html": [
       "<table border=\"1\" class=\"dataframe\">\n",
       "  <thead>\n",
       "    <tr style=\"text-align: left;\">\n",
       "      <th>epoch</th>\n",
       "      <th>train_loss</th>\n",
       "      <th>valid_loss</th>\n",
       "      <th>accuracy</th>\n",
       "      <th>time</th>\n",
       "    </tr>\n",
       "  </thead>\n",
       "  <tbody>\n",
       "    <tr>\n",
       "      <td>0</td>\n",
       "      <td>2.964745</td>\n",
       "      <td>2.679828</td>\n",
       "      <td>0.340162</td>\n",
       "      <td>09:39</td>\n",
       "    </tr>\n",
       "    <tr>\n",
       "      <td>1</td>\n",
       "      <td>1.839962</td>\n",
       "      <td>1.597191</td>\n",
       "      <td>0.576730</td>\n",
       "      <td>09:38</td>\n",
       "    </tr>\n",
       "    <tr>\n",
       "      <td>2</td>\n",
       "      <td>1.126267</td>\n",
       "      <td>1.076298</td>\n",
       "      <td>0.720139</td>\n",
       "      <td>09:38</td>\n",
       "    </tr>\n",
       "    <tr>\n",
       "      <td>3</td>\n",
       "      <td>0.739322</td>\n",
       "      <td>0.796284</td>\n",
       "      <td>0.783147</td>\n",
       "      <td>09:35</td>\n",
       "    </tr>\n",
       "    <tr>\n",
       "      <td>4</td>\n",
       "      <td>0.523786</td>\n",
       "      <td>0.654173</td>\n",
       "      <td>0.824121</td>\n",
       "      <td>09:35</td>\n",
       "    </tr>\n",
       "    <tr>\n",
       "      <td>5</td>\n",
       "      <td>0.346473</td>\n",
       "      <td>0.569968</td>\n",
       "      <td>0.847700</td>\n",
       "      <td>09:49</td>\n",
       "    </tr>\n",
       "    <tr>\n",
       "      <td>6</td>\n",
       "      <td>0.258018</td>\n",
       "      <td>0.551218</td>\n",
       "      <td>0.851179</td>\n",
       "      <td>09:47</td>\n",
       "    </tr>\n",
       "    <tr>\n",
       "      <td>7</td>\n",
       "      <td>0.187065</td>\n",
       "      <td>0.516089</td>\n",
       "      <td>0.862389</td>\n",
       "      <td>09:36</td>\n",
       "    </tr>\n",
       "    <tr>\n",
       "      <td>8</td>\n",
       "      <td>0.147573</td>\n",
       "      <td>0.528141</td>\n",
       "      <td>0.856204</td>\n",
       "      <td>09:33</td>\n",
       "    </tr>\n",
       "    <tr>\n",
       "      <td>9</td>\n",
       "      <td>0.132801</td>\n",
       "      <td>0.509599</td>\n",
       "      <td>0.863935</td>\n",
       "      <td>09:41</td>\n",
       "    </tr>\n",
       "    <tr>\n",
       "      <td>10</td>\n",
       "      <td>0.109516</td>\n",
       "      <td>0.510951</td>\n",
       "      <td>0.865481</td>\n",
       "      <td>09:37</td>\n",
       "    </tr>\n",
       "    <tr>\n",
       "      <td>11</td>\n",
       "      <td>0.118952</td>\n",
       "      <td>0.531850</td>\n",
       "      <td>0.862775</td>\n",
       "      <td>09:39</td>\n",
       "    </tr>\n",
       "    <tr>\n",
       "      <td>12</td>\n",
       "      <td>0.119621</td>\n",
       "      <td>0.536598</td>\n",
       "      <td>0.863935</td>\n",
       "      <td>09:29</td>\n",
       "    </tr>\n",
       "    <tr>\n",
       "      <td>13</td>\n",
       "      <td>0.101824</td>\n",
       "      <td>0.607730</td>\n",
       "      <td>0.850406</td>\n",
       "      <td>09:20</td>\n",
       "    </tr>\n",
       "    <tr>\n",
       "      <td>14</td>\n",
       "      <td>0.104548</td>\n",
       "      <td>0.576079</td>\n",
       "      <td>0.862002</td>\n",
       "      <td>09:06</td>\n",
       "    </tr>\n",
       "  </tbody>\n",
       "</table>"
      ],
      "text/plain": [
       "<IPython.core.display.HTML object>"
      ]
     },
     "metadata": {},
     "output_type": "display_data"
    },
    {
     "name": "stdout",
     "output_type": "stream",
     "text": [
      "No improvement since epoch 9: early stopping\n"
     ]
    },
    {
     "name": "stderr",
     "output_type": "stream",
     "text": [
      "/usr/local/lib/python3.10/dist-packages/fastai/callback/fp16.py:47: FutureWarning: `torch.cuda.amp.autocast(args...)` is deprecated. Please use `torch.amp.autocast('cuda', args...)` instead.\n",
      "  self.autocast,self.learn.scaler,self.scales = autocast(dtype=dtype),GradScaler(**self.kwargs),L()\n",
      "/usr/local/lib/python3.10/dist-packages/fastai/callback/fp16.py:47: FutureWarning: `torch.cuda.amp.GradScaler(args...)` is deprecated. Please use `torch.amp.GradScaler('cuda', args...)` instead.\n",
      "  self.autocast,self.learn.scaler,self.scales = autocast(dtype=dtype),GradScaler(**self.kwargs),L()\n"
     ]
    },
    {
     "data": {
      "text/html": [
       "\n",
       "<style>\n",
       "    /* Turns off some styling */\n",
       "    progress {\n",
       "        /* gets rid of default border in Firefox and Opera. */\n",
       "        border: none;\n",
       "        /* Needs to be in here for Safari polyfill so background images work as expected. */\n",
       "        background-size: auto;\n",
       "    }\n",
       "    progress:not([value]), progress:not([value])::-webkit-progress-bar {\n",
       "        background: repeating-linear-gradient(45deg, #7e7e7e, #7e7e7e 10px, #5c5c5c 10px, #5c5c5c 20px);\n",
       "    }\n",
       "    .progress-bar-interrupted, .progress-bar-interrupted::-webkit-progress-bar {\n",
       "        background: #F44336;\n",
       "    }\n",
       "</style>\n"
      ],
      "text/plain": [
       "<IPython.core.display.HTML object>"
      ]
     },
     "metadata": {},
     "output_type": "display_data"
    },
    {
     "data": {
      "text/html": [],
      "text/plain": [
       "<IPython.core.display.HTML object>"
      ]
     },
     "metadata": {},
     "output_type": "display_data"
    },
    {
     "name": "stdout",
     "output_type": "stream",
     "text": [
      "✅ Test Accuracy für bs=64: 0.9021\n",
      "[neptune] [info   ] Shutting down background jobs, please wait a moment...\n",
      "[neptune] [info   ] Done!\n",
      "[neptune] [info   ] Waiting for the remaining 2 operations to synchronize with Neptune. Do not kill this process.\n",
      "[neptune] [info   ] All 2 operations synced, thanks for waiting!\n",
      "[neptune] [info   ] Explore the metadata in the Neptune app: https://app.neptune.ai/katzn13/DL-models/e/DLMOD-120/metadata\n"
     ]
    }
   ],
   "source": [
    "batch_sizes = [64]\n",
    "\n",
    "for bs in batch_sizes:\n",
    "    print(f\"\\n🚀 Starte Training mit Batch Size = {bs}\")\n",
    "    \n",
    "    # === Neptune-Run initialisieren ===\n",
    "    run = neptune.init_run(\n",
    "        project=\"katzn13/DL-models\",\n",
    "        api_token=\"eyJhcGlfYWRkcmVzcyI6Imh0dHBzOi8vYXBwLm5lcHR1bmUuYWkiLCJhcGlfdXJsIjoiaHR0cHM6Ly9hcHAubmVwdHVuZS5haSIsImFwaV9rZXkiOiI5OWI0ZWI1Yy0wNzM5LTRhOTEtODk5Yi1mNTUyNWQwOTkxMWUifQ==\",\n",
    "        tags=[f\"ViT-bs{bs}+augm+iNat\"]\n",
    "    )\n",
    "\n",
    "    # === DataBlock und Dataloaders ===\n",
    "    dblock = DataBlock(\n",
    "        blocks=(ImageBlock, CategoryBlock(vocab=vocab)),\n",
    "        get_x=ColReader('image_path'),\n",
    "        get_y=ColReader('label'),\n",
    "        splitter=RandomSplitter(valid_pct=0.2, seed=42),\n",
    "        item_tfms=Resize(224),\n",
    "    )\n",
    "\n",
    "    dls = dblock.dataloaders(df_train, bs=bs, num_workers=8, device=\"cuda\")\n",
    "    test_dl = dls.test_dl(df_test, device=\"cuda\", with_labels=True)\n",
    "\n",
    "    # === ViT-Modell vorbereiten ===\n",
    "    device = torch.device(\"cuda\" if torch.cuda.is_available() else \"cpu\")\n",
    "    vit_model = create_model(\"vit_base_patch16_224\", pretrained=True, num_classes=len(vocab)).to(device)\n",
    "\n",
    "    learn = Learner(\n",
    "        dls,\n",
    "        vit_model,\n",
    "        loss_func=CrossEntropyLossFlat(),\n",
    "        metrics=accuracy,\n",
    "        cbs=[EarlyStoppingCallback(monitor='valid_loss', patience=5)]\n",
    "    ).to_fp16()\n",
    "\n",
    "    # === Neptune Parameter loggen ===\n",
    "    run[\"parameters\"] = {\n",
    "        \"dataset_dir\": DATASET_DIR,\n",
    "        \"batch_size\": bs,\n",
    "        \"epochs\": 100,\n",
    "        \"architecture\": \"ViT (vit_base_patch16_224)\",\n",
    "    }\n",
    "\n",
    "    # === Lernrate finden und loggen ===\n",
    "    lr_find_results = learn.lr_find(start_lr=1e-6, end_lr=1e-2, show_plot=False)\n",
    "    optimal_lr = lr_find_results.valley\n",
    "    run[\"learning_rate/optimal\"] = optimal_lr\n",
    "    print(f\"Empfohlene Lernrate (bs={bs}): {optimal_lr}\")\n",
    "\n",
    "    # === Training ===\n",
    "    learn.fit_one_cycle(100, lr_max=optimal_lr)\n",
    "\n",
    "    # === Losses loggen ===\n",
    "    for loss in learn.recorder.losses:\n",
    "        run[\"train/loss\"].append(loss.item())\n",
    "    for values in learn.recorder.values:\n",
    "        if len(values) > 1:\n",
    "            run[\"valid/loss\"].append(values[1])\n",
    "        if len(values) > 2:\n",
    "            run[\"valid/accuracy\"].append(values[2])\n",
    "\n",
    "    # === Modell speichern ===\n",
    "    model_path = f\"{OUTPUT_DIR}/vit_model_bs{bs}.pkl\"\n",
    "    learn.export(model_path)\n",
    "    run[\"model\"].upload(model_path)\n",
    "\n",
    "    # === Testevaluation ===\n",
    "    test_loss, test_acc = learn.validate(dl=test_dl)\n",
    "    run[\"test/loss\"] = test_loss\n",
    "    run[\"test/accuracy\"] = test_acc\n",
    "    print(f\"Test Accuracy für bs={bs}: {test_acc:.4f}\")\n",
    "\n",
    "    # === Neptune Run beenden ===\n",
    "    run.stop()"
   ]
  }
 ],
 "metadata": {
  "kaggle": {
   "accelerator": "gpu",
   "dataSources": [
    {
     "datasetId": 6796038,
     "sourceId": 11264076,
     "sourceType": "datasetVersion"
    }
   ],
   "dockerImageVersionId": 30919,
   "isGpuEnabled": true,
   "isInternetEnabled": true,
   "language": "python",
   "sourceType": "notebook"
  },
  "kernelspec": {
   "display_name": "Python 3",
   "language": "python",
   "name": "python3"
  },
  "language_info": {
   "codemirror_mode": {
    "name": "ipython",
    "version": 3
   },
   "file_extension": ".py",
   "mimetype": "text/x-python",
   "name": "python",
   "nbconvert_exporter": "python",
   "pygments_lexer": "ipython3",
   "version": "3.10.12"
  },
  "papermill": {
   "default_parameters": {},
   "duration": 9103.810347,
   "end_time": "2025-04-06T15:00:34.941072",
   "environment_variables": {},
   "exception": null,
   "input_path": "__notebook__.ipynb",
   "output_path": "__notebook__.ipynb",
   "parameters": {},
   "start_time": "2025-04-06T12:28:51.130725",
   "version": "2.6.0"
  },
  "widgets": {
   "application/vnd.jupyter.widget-state+json": {
    "state": {
     "096937b844e044d38e47eea08f4a236a": {
      "model_module": "@jupyter-widgets/controls",
      "model_module_version": "2.0.0",
      "model_name": "FloatProgressModel",
      "state": {
       "_dom_classes": [],
       "_model_module": "@jupyter-widgets/controls",
       "_model_module_version": "2.0.0",
       "_model_name": "FloatProgressModel",
       "_view_count": null,
       "_view_module": "@jupyter-widgets/controls",
       "_view_module_version": "2.0.0",
       "_view_name": "ProgressView",
       "bar_style": "success",
       "description": "",
       "description_allow_html": false,
       "layout": "IPY_MODEL_f2b1d7ff77d446b396dd1c7514556bbf",
       "max": 346284714,
       "min": 0,
       "orientation": "horizontal",
       "style": "IPY_MODEL_f76ed9e582e843619a77495ce3ef9000",
       "tabbable": null,
       "tooltip": null,
       "value": 346284714
      }
     },
     "0f082c2c0ee748b8abf33840d10dc8e4": {
      "model_module": "@jupyter-widgets/controls",
      "model_module_version": "2.0.0",
      "model_name": "HTMLModel",
      "state": {
       "_dom_classes": [],
       "_model_module": "@jupyter-widgets/controls",
       "_model_module_version": "2.0.0",
       "_model_name": "HTMLModel",
       "_view_count": null,
       "_view_module": "@jupyter-widgets/controls",
       "_view_module_version": "2.0.0",
       "_view_name": "HTMLView",
       "description": "",
       "description_allow_html": false,
       "layout": "IPY_MODEL_ef413ecebfbb41aeb1872f059733c829",
       "placeholder": "​",
       "style": "IPY_MODEL_3a237fa13da245c8bcb5a2caba823697",
       "tabbable": null,
       "tooltip": null,
       "value": " 346M/346M [00:01&lt;00:00, 250MB/s]"
      }
     },
     "29ddb25d8ca44009bbf762bce84f1461": {
      "model_module": "@jupyter-widgets/controls",
      "model_module_version": "2.0.0",
      "model_name": "HTMLModel",
      "state": {
       "_dom_classes": [],
       "_model_module": "@jupyter-widgets/controls",
       "_model_module_version": "2.0.0",
       "_model_name": "HTMLModel",
       "_view_count": null,
       "_view_module": "@jupyter-widgets/controls",
       "_view_module_version": "2.0.0",
       "_view_name": "HTMLView",
       "description": "",
       "description_allow_html": false,
       "layout": "IPY_MODEL_7eaffd25c29945d5bf55dcd07511f679",
       "placeholder": "​",
       "style": "IPY_MODEL_59b1a4069368418cb9d1bdad1f27af6e",
       "tabbable": null,
       "tooltip": null,
       "value": "model.safetensors: 100%"
      }
     },
     "3a237fa13da245c8bcb5a2caba823697": {
      "model_module": "@jupyter-widgets/controls",
      "model_module_version": "2.0.0",
      "model_name": "HTMLStyleModel",
      "state": {
       "_model_module": "@jupyter-widgets/controls",
       "_model_module_version": "2.0.0",
       "_model_name": "HTMLStyleModel",
       "_view_count": null,
       "_view_module": "@jupyter-widgets/base",
       "_view_module_version": "2.0.0",
       "_view_name": "StyleView",
       "background": null,
       "description_width": "",
       "font_size": null,
       "text_color": null
      }
     },
     "59b1a4069368418cb9d1bdad1f27af6e": {
      "model_module": "@jupyter-widgets/controls",
      "model_module_version": "2.0.0",
      "model_name": "HTMLStyleModel",
      "state": {
       "_model_module": "@jupyter-widgets/controls",
       "_model_module_version": "2.0.0",
       "_model_name": "HTMLStyleModel",
       "_view_count": null,
       "_view_module": "@jupyter-widgets/base",
       "_view_module_version": "2.0.0",
       "_view_name": "StyleView",
       "background": null,
       "description_width": "",
       "font_size": null,
       "text_color": null
      }
     },
     "6b0d679de62d452dbe2c75c74cfe7aaa": {
      "model_module": "@jupyter-widgets/controls",
      "model_module_version": "2.0.0",
      "model_name": "HBoxModel",
      "state": {
       "_dom_classes": [],
       "_model_module": "@jupyter-widgets/controls",
       "_model_module_version": "2.0.0",
       "_model_name": "HBoxModel",
       "_view_count": null,
       "_view_module": "@jupyter-widgets/controls",
       "_view_module_version": "2.0.0",
       "_view_name": "HBoxView",
       "box_style": "",
       "children": [
        "IPY_MODEL_29ddb25d8ca44009bbf762bce84f1461",
        "IPY_MODEL_096937b844e044d38e47eea08f4a236a",
        "IPY_MODEL_0f082c2c0ee748b8abf33840d10dc8e4"
       ],
       "layout": "IPY_MODEL_70939ff1c3734876b30649c919d0f5e8",
       "tabbable": null,
       "tooltip": null
      }
     },
     "70939ff1c3734876b30649c919d0f5e8": {
      "model_module": "@jupyter-widgets/base",
      "model_module_version": "2.0.0",
      "model_name": "LayoutModel",
      "state": {
       "_model_module": "@jupyter-widgets/base",
       "_model_module_version": "2.0.0",
       "_model_name": "LayoutModel",
       "_view_count": null,
       "_view_module": "@jupyter-widgets/base",
       "_view_module_version": "2.0.0",
       "_view_name": "LayoutView",
       "align_content": null,
       "align_items": null,
       "align_self": null,
       "border_bottom": null,
       "border_left": null,
       "border_right": null,
       "border_top": null,
       "bottom": null,
       "display": null,
       "flex": null,
       "flex_flow": null,
       "grid_area": null,
       "grid_auto_columns": null,
       "grid_auto_flow": null,
       "grid_auto_rows": null,
       "grid_column": null,
       "grid_gap": null,
       "grid_row": null,
       "grid_template_areas": null,
       "grid_template_columns": null,
       "grid_template_rows": null,
       "height": null,
       "justify_content": null,
       "justify_items": null,
       "left": null,
       "margin": null,
       "max_height": null,
       "max_width": null,
       "min_height": null,
       "min_width": null,
       "object_fit": null,
       "object_position": null,
       "order": null,
       "overflow": null,
       "padding": null,
       "right": null,
       "top": null,
       "visibility": null,
       "width": null
      }
     },
     "7eaffd25c29945d5bf55dcd07511f679": {
      "model_module": "@jupyter-widgets/base",
      "model_module_version": "2.0.0",
      "model_name": "LayoutModel",
      "state": {
       "_model_module": "@jupyter-widgets/base",
       "_model_module_version": "2.0.0",
       "_model_name": "LayoutModel",
       "_view_count": null,
       "_view_module": "@jupyter-widgets/base",
       "_view_module_version": "2.0.0",
       "_view_name": "LayoutView",
       "align_content": null,
       "align_items": null,
       "align_self": null,
       "border_bottom": null,
       "border_left": null,
       "border_right": null,
       "border_top": null,
       "bottom": null,
       "display": null,
       "flex": null,
       "flex_flow": null,
       "grid_area": null,
       "grid_auto_columns": null,
       "grid_auto_flow": null,
       "grid_auto_rows": null,
       "grid_column": null,
       "grid_gap": null,
       "grid_row": null,
       "grid_template_areas": null,
       "grid_template_columns": null,
       "grid_template_rows": null,
       "height": null,
       "justify_content": null,
       "justify_items": null,
       "left": null,
       "margin": null,
       "max_height": null,
       "max_width": null,
       "min_height": null,
       "min_width": null,
       "object_fit": null,
       "object_position": null,
       "order": null,
       "overflow": null,
       "padding": null,
       "right": null,
       "top": null,
       "visibility": null,
       "width": null
      }
     },
     "ef413ecebfbb41aeb1872f059733c829": {
      "model_module": "@jupyter-widgets/base",
      "model_module_version": "2.0.0",
      "model_name": "LayoutModel",
      "state": {
       "_model_module": "@jupyter-widgets/base",
       "_model_module_version": "2.0.0",
       "_model_name": "LayoutModel",
       "_view_count": null,
       "_view_module": "@jupyter-widgets/base",
       "_view_module_version": "2.0.0",
       "_view_name": "LayoutView",
       "align_content": null,
       "align_items": null,
       "align_self": null,
       "border_bottom": null,
       "border_left": null,
       "border_right": null,
       "border_top": null,
       "bottom": null,
       "display": null,
       "flex": null,
       "flex_flow": null,
       "grid_area": null,
       "grid_auto_columns": null,
       "grid_auto_flow": null,
       "grid_auto_rows": null,
       "grid_column": null,
       "grid_gap": null,
       "grid_row": null,
       "grid_template_areas": null,
       "grid_template_columns": null,
       "grid_template_rows": null,
       "height": null,
       "justify_content": null,
       "justify_items": null,
       "left": null,
       "margin": null,
       "max_height": null,
       "max_width": null,
       "min_height": null,
       "min_width": null,
       "object_fit": null,
       "object_position": null,
       "order": null,
       "overflow": null,
       "padding": null,
       "right": null,
       "top": null,
       "visibility": null,
       "width": null
      }
     },
     "f2b1d7ff77d446b396dd1c7514556bbf": {
      "model_module": "@jupyter-widgets/base",
      "model_module_version": "2.0.0",
      "model_name": "LayoutModel",
      "state": {
       "_model_module": "@jupyter-widgets/base",
       "_model_module_version": "2.0.0",
       "_model_name": "LayoutModel",
       "_view_count": null,
       "_view_module": "@jupyter-widgets/base",
       "_view_module_version": "2.0.0",
       "_view_name": "LayoutView",
       "align_content": null,
       "align_items": null,
       "align_self": null,
       "border_bottom": null,
       "border_left": null,
       "border_right": null,
       "border_top": null,
       "bottom": null,
       "display": null,
       "flex": null,
       "flex_flow": null,
       "grid_area": null,
       "grid_auto_columns": null,
       "grid_auto_flow": null,
       "grid_auto_rows": null,
       "grid_column": null,
       "grid_gap": null,
       "grid_row": null,
       "grid_template_areas": null,
       "grid_template_columns": null,
       "grid_template_rows": null,
       "height": null,
       "justify_content": null,
       "justify_items": null,
       "left": null,
       "margin": null,
       "max_height": null,
       "max_width": null,
       "min_height": null,
       "min_width": null,
       "object_fit": null,
       "object_position": null,
       "order": null,
       "overflow": null,
       "padding": null,
       "right": null,
       "top": null,
       "visibility": null,
       "width": null
      }
     },
     "f76ed9e582e843619a77495ce3ef9000": {
      "model_module": "@jupyter-widgets/controls",
      "model_module_version": "2.0.0",
      "model_name": "ProgressStyleModel",
      "state": {
       "_model_module": "@jupyter-widgets/controls",
       "_model_module_version": "2.0.0",
       "_model_name": "ProgressStyleModel",
       "_view_count": null,
       "_view_module": "@jupyter-widgets/base",
       "_view_module_version": "2.0.0",
       "_view_name": "StyleView",
       "bar_color": null,
       "description_width": ""
      }
     }
    },
    "version_major": 2,
    "version_minor": 0
   }
  }
 },
 "nbformat": 4,
 "nbformat_minor": 5
}
