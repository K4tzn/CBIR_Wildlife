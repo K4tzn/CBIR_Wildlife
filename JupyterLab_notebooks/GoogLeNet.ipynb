{
 "cells": [
  {
   "cell_type": "code",
   "execution_count": 1,
   "id": "0d27c40f-4063-458b-bf48-3f554d7d0040",
   "metadata": {},
   "outputs": [],
   "source": [
    "import os\n",
    "import neptune\n",
    "import torch\n",
    "import json\n",
    "import pandas as pd\n",
    "import numpy as np\n",
    "import matplotlib.pyplot as plt\n",
    "import seaborn as sns\n",
    "from fastai.vision.all import *\n",
    "from sklearn.metrics import accuracy_score, f1_score, precision_score, recall_score, confusion_matrix, classification_report\n",
    "import matplotlib.cm as cm"
   ]
  },
  {
   "cell_type": "code",
   "execution_count": null,
   "id": "70fa37a6-794a-43db-9864-796e19c03923",
   "metadata": {},
   "outputs": [
    {
     "name": "stdout",
     "output_type": "stream",
     "text": [
      "cuda\n"
     ]
    }
   ],
   "source": [
    "# Testdatensatz laden\n",
    "DATASET_DIR = \"balanced_dataset_split/balanced_dataset_split\"\n",
    "JSON_PATH = \"train_test_split_new.json\"\n",
    "\n",
    "with open(JSON_PATH, \"r\") as f:\n",
    "    split_data = json.load(f)\n",
    "\n",
    "df_test = pd.DataFrame(split_data[\"test\"])\n",
    "df_test[\"image_path\"] = df_test[\"file_path\"].apply(lambda x: os.path.join(DATASET_DIR, x))\n",
    "\n",
    "# Vokabular für die Labels erstellen\n",
    "vocab = df_test[\"label\"].unique().tolist()\n",
    "\n",
    "# DataBlock für Testdaten\n",
    "dblock = DataBlock(\n",
    "    blocks=(ImageBlock, CategoryBlock(vocab=vocab)),\n",
    "    get_x=ColReader('image_path'),\n",
    "    get_y=ColReader('label'),\n",
    "    splitter=RandomSplitter(valid_pct=0.2, seed=42),\n",
    "    item_tfms=Resize(224),\n",
    ")\n",
    "dls = dblock.dataloaders(df_test, bs=64, num_workers=8)\n",
    "test_dl = dls.test_dl(df_test, with_labels=True)\n",
    "\n",
    "# Device erkennen \n",
    "device = torch.device(\"cuda\" if torch.cuda.is_available() else \"cpu\")\n",
    "print(device)\n"
   ]
  },
  {
   "cell_type": "code",
   "execution_count": 4,
   "id": "9363421f-a104-4f10-883e-0084dd35dffd",
   "metadata": {},
   "outputs": [
    {
     "data": {
      "text/html": [
       "\n",
       "<style>\n",
       "    /* Turns off some styling */\n",
       "    progress {\n",
       "        /* gets rid of default border in Firefox and Opera. */\n",
       "        border: none;\n",
       "        /* Needs to be in here for Safari polyfill so background images work as expected. */\n",
       "        background-size: auto;\n",
       "    }\n",
       "    progress:not([value]), progress:not([value])::-webkit-progress-bar {\n",
       "        background: repeating-linear-gradient(45deg, #7e7e7e, #7e7e7e 10px, #5c5c5c 10px, #5c5c5c 20px);\n",
       "    }\n",
       "    .progress-bar-interrupted, .progress-bar-interrupted::-webkit-progress-bar {\n",
       "        background: #F44336;\n",
       "    }\n",
       "</style>\n"
      ],
      "text/plain": [
       "<IPython.core.display.HTML object>"
      ]
     },
     "metadata": {},
     "output_type": "display_data"
    },
    {
     "data": {
      "text/html": [],
      "text/plain": [
       "<IPython.core.display.HTML object>"
      ]
     },
     "metadata": {},
     "output_type": "display_data"
    },
    {
     "name": "stderr",
     "output_type": "stream",
     "text": [
      "/home/kavo/.conda/envs/Katha/lib/python3.8/site-packages/sklearn/metrics/_classification.py:1471: UndefinedMetricWarning: Precision is ill-defined and being set to 0.0 in labels with no predicted samples. Use `zero_division` parameter to control this behavior.\n",
      "  _warn_prf(average, modifier, msg_start, len(result))\n"
     ]
    },
    {
     "data": {
      "text/html": [
       "\n",
       "<style>\n",
       "    /* Turns off some styling */\n",
       "    progress {\n",
       "        /* gets rid of default border in Firefox and Opera. */\n",
       "        border: none;\n",
       "        /* Needs to be in here for Safari polyfill so background images work as expected. */\n",
       "        background-size: auto;\n",
       "    }\n",
       "    progress:not([value]), progress:not([value])::-webkit-progress-bar {\n",
       "        background: repeating-linear-gradient(45deg, #7e7e7e, #7e7e7e 10px, #5c5c5c 10px, #5c5c5c 20px);\n",
       "    }\n",
       "    .progress-bar-interrupted, .progress-bar-interrupted::-webkit-progress-bar {\n",
       "        background: #F44336;\n",
       "    }\n",
       "</style>\n"
      ],
      "text/plain": [
       "<IPython.core.display.HTML object>"
      ]
     },
     "metadata": {},
     "output_type": "display_data"
    },
    {
     "data": {
      "text/html": [],
      "text/plain": [
       "<IPython.core.display.HTML object>"
      ]
     },
     "metadata": {},
     "output_type": "display_data"
    },
    {
     "name": "stderr",
     "output_type": "stream",
     "text": [
      "/home/kavo/.conda/envs/Katha/lib/python3.8/site-packages/sklearn/metrics/_classification.py:1471: UndefinedMetricWarning: Precision is ill-defined and being set to 0.0 in labels with no predicted samples. Use `zero_division` parameter to control this behavior.\n",
      "  _warn_prf(average, modifier, msg_start, len(result))\n"
     ]
    },
    {
     "data": {
      "text/html": [
       "\n",
       "<style>\n",
       "    /* Turns off some styling */\n",
       "    progress {\n",
       "        /* gets rid of default border in Firefox and Opera. */\n",
       "        border: none;\n",
       "        /* Needs to be in here for Safari polyfill so background images work as expected. */\n",
       "        background-size: auto;\n",
       "    }\n",
       "    progress:not([value]), progress:not([value])::-webkit-progress-bar {\n",
       "        background: repeating-linear-gradient(45deg, #7e7e7e, #7e7e7e 10px, #5c5c5c 10px, #5c5c5c 20px);\n",
       "    }\n",
       "    .progress-bar-interrupted, .progress-bar-interrupted::-webkit-progress-bar {\n",
       "        background: #F44336;\n",
       "    }\n",
       "</style>\n"
      ],
      "text/plain": [
       "<IPython.core.display.HTML object>"
      ]
     },
     "metadata": {},
     "output_type": "display_data"
    },
    {
     "data": {
      "text/html": [],
      "text/plain": [
       "<IPython.core.display.HTML object>"
      ]
     },
     "metadata": {},
     "output_type": "display_data"
    },
    {
     "name": "stderr",
     "output_type": "stream",
     "text": [
      "/home/kavo/.conda/envs/Katha/lib/python3.8/site-packages/sklearn/metrics/_classification.py:1471: UndefinedMetricWarning: Precision is ill-defined and being set to 0.0 in labels with no predicted samples. Use `zero_division` parameter to control this behavior.\n",
      "  _warn_prf(average, modifier, msg_start, len(result))\n"
     ]
    },
    {
     "data": {
      "text/html": [
       "\n",
       "<style>\n",
       "    /* Turns off some styling */\n",
       "    progress {\n",
       "        /* gets rid of default border in Firefox and Opera. */\n",
       "        border: none;\n",
       "        /* Needs to be in here for Safari polyfill so background images work as expected. */\n",
       "        background-size: auto;\n",
       "    }\n",
       "    progress:not([value]), progress:not([value])::-webkit-progress-bar {\n",
       "        background: repeating-linear-gradient(45deg, #7e7e7e, #7e7e7e 10px, #5c5c5c 10px, #5c5c5c 20px);\n",
       "    }\n",
       "    .progress-bar-interrupted, .progress-bar-interrupted::-webkit-progress-bar {\n",
       "        background: #F44336;\n",
       "    }\n",
       "</style>\n"
      ],
      "text/plain": [
       "<IPython.core.display.HTML object>"
      ]
     },
     "metadata": {},
     "output_type": "display_data"
    },
    {
     "data": {
      "text/html": [],
      "text/plain": [
       "<IPython.core.display.HTML object>"
      ]
     },
     "metadata": {},
     "output_type": "display_data"
    },
    {
     "name": "stderr",
     "output_type": "stream",
     "text": [
      "/home/kavo/.conda/envs/Katha/lib/python3.8/site-packages/sklearn/metrics/_classification.py:1471: UndefinedMetricWarning: Precision is ill-defined and being set to 0.0 in labels with no predicted samples. Use `zero_division` parameter to control this behavior.\n",
      "  _warn_prf(average, modifier, msg_start, len(result))\n"
     ]
    },
    {
     "data": {
      "text/html": [
       "\n",
       "<style>\n",
       "    /* Turns off some styling */\n",
       "    progress {\n",
       "        /* gets rid of default border in Firefox and Opera. */\n",
       "        border: none;\n",
       "        /* Needs to be in here for Safari polyfill so background images work as expected. */\n",
       "        background-size: auto;\n",
       "    }\n",
       "    progress:not([value]), progress:not([value])::-webkit-progress-bar {\n",
       "        background: repeating-linear-gradient(45deg, #7e7e7e, #7e7e7e 10px, #5c5c5c 10px, #5c5c5c 20px);\n",
       "    }\n",
       "    .progress-bar-interrupted, .progress-bar-interrupted::-webkit-progress-bar {\n",
       "        background: #F44336;\n",
       "    }\n",
       "</style>\n"
      ],
      "text/plain": [
       "<IPython.core.display.HTML object>"
      ]
     },
     "metadata": {},
     "output_type": "display_data"
    },
    {
     "data": {
      "text/html": [],
      "text/plain": [
       "<IPython.core.display.HTML object>"
      ]
     },
     "metadata": {},
     "output_type": "display_data"
    },
    {
     "name": "stdout",
     "output_type": "stream",
     "text": [
      "                       Model  Accuracy  F1 Score  Precision    Recall\n",
      "0    basemodel_googlenet_bs8  0.653943  0.646050   0.716122  0.653943\n",
      "1   basemodel_googlenet_bs16  0.621798  0.619167   0.691776  0.621798\n",
      "2   basemodel_googlenet_bs32  0.598192  0.592893   0.670196  0.598192\n",
      "3   basemodel_googlenet_bs64  0.579106  0.577900   0.658482  0.579106\n",
      "4  basemodel_googlenet_bs128  0.841286  0.839944   0.841415  0.841286\n"
     ]
    },
    {
     "name": "stderr",
     "output_type": "stream",
     "text": [
      "/home/kavo/.conda/envs/Katha/lib/python3.8/site-packages/sklearn/metrics/_classification.py:1471: UndefinedMetricWarning: Precision is ill-defined and being set to 0.0 in labels with no predicted samples. Use `zero_division` parameter to control this behavior.\n",
      "  _warn_prf(average, modifier, msg_start, len(result))\n"
     ]
    }
   ],
   "source": [
    "# Evaluate ResNet50 models\n",
    "\n",
    "# Liste der Modelle\n",
    "models = [\n",
    "    \"basemodel_googlenet_bs8\",\n",
    "    \"basemodel_googlenet_bs16\",\n",
    "    \"basemodel_googlenet_bs32\",\n",
    "    \"basemodel_googlenet_bs64\",\n",
    "    \"basemodel_googlenet_bs128\",\n",
    "]\n",
    "\n",
    "# Basispfad zu den .pkl-Dateien\n",
    "base_path = \"basemodel_outputs\"\n",
    "\n",
    "# Ergebnisse speichern\n",
    "results = []\n",
    "\n",
    "for model_name in models:\n",
    "    path = f\"{base_path}/{model_name}.pkl\"\n",
    "    \n",
    "    # Modell laden\n",
    "    learn = load_learner(path)\n",
    "\n",
    "    # Vorhersagen\n",
    "    preds, targs = learn.get_preds(dl=test_dl)\n",
    "    y_pred = torch.argmax(preds, dim=1).numpy()\n",
    "    y_true = targs.numpy()\n",
    "    \n",
    "    # Metriken berechnen\n",
    "    accuracy = accuracy_score(y_true, y_pred)\n",
    "    f1 = f1_score(y_true, y_pred, average='weighted')\n",
    "    precision = precision_score(y_true, y_pred, average='weighted')\n",
    "    recall = recall_score(y_true, y_pred, average='weighted')\n",
    "    \n",
    "    results.append({\n",
    "        \"Model\": model_name,\n",
    "        \"Accuracy\": accuracy,\n",
    "        \"F1 Score\": f1,\n",
    "        \"Precision\": precision,\n",
    "        \"Recall\": recall\n",
    "    })\n",
    "\n",
    "# DataFrame mit Ergebnissen\n",
    "df_results = pd.DataFrame(results)\n",
    "print(df_results)\n"
   ]
  },
  {
   "cell_type": "code",
   "execution_count": null,
   "id": "8c097189-d61f-4166-892c-a0d8ed99b875",
   "metadata": {},
   "outputs": [
    {
     "name": "stderr",
     "output_type": "stream",
     "text": [
      "/tmp/ipykernel_503155/2257034068.py:13: MatplotlibDeprecationWarning: The get_cmap function was deprecated in Matplotlib 3.7 and will be removed two minor releases later. Use ``matplotlib.colormaps[name]`` or ``matplotlib.colormaps.get_cmap(obj)`` instead.\n",
      "  cmap = cm.get_cmap('Blues')\n"
     ]
    },
    {
     "data": {
      "image/png": "[encoded data removed]",
      "text/plain": [
       "<Figure size 1200x500 with 1 Axes>"
      ]
     },
     "metadata": {},
     "output_type": "display_data"
    }
   ],
   "source": [
    "# Metriken & Modelle\n",
    "metrics = ['Accuracy', 'F1 Score', 'Precision', 'Recall']\n",
    "n_metrics = len(metrics)\n",
    "n_models = len(df_results)\n",
    "group_width = 1.2  \n",
    "bar_width = group_width / n_models\n",
    "gap = 0.5  \n",
    "\n",
    "# X-Positionen der Metrikgruppen\n",
    "x = np.arange(n_metrics) * (1 + gap)\n",
    "\n",
    "# Farben aus der \"Blues\"-Colormap\n",
    "cmap = cm.get_cmap('Blues')\n",
    "colors = [cmap(0.3 + 0.8 * i / max(1, n_models - 1)) for i in range(n_models)]\n",
    "\n",
    "# Mapping der Modellnamen für schönere Beschriftung\n",
    "label_map = {\n",
    "    \"basemodel_googlenet_bs8\": \"8\",\n",
    "    \"basemodel_googlenet_bs16\": \"16\",\n",
    "    \"basemodel_googlenet_bs32\": \"32\",\n",
    "    \"basemodel_googlenet_bs64\": \"64\",\n",
    "    \"basemodel_googlenet_bs128\": \"128\"\n",
    "}\n",
    "\n",
    "# Plot\n",
    "fig, ax = plt.subplots(figsize=(12, 5))\n",
    "\n",
    "for i, (idx, row) in enumerate(df_results.iterrows()):\n",
    "    scores = [row[m] for m in metrics]\n",
    "    offset = x + i * bar_width - group_width / 2 + bar_width / 2\n",
    "    label = label_map.get(row['Model'], row['Model'])\n",
    "    ax.bar(offset, scores, width=bar_width, label=label, color=colors[i])\n",
    "\n",
    "# Achsen & Styling\n",
    "ax.set_ylabel('Score', fontsize=12)\n",
    "ax.set_title('Metrics for GoogLeNet with different batch sizes', fontsize=12)\n",
    "ax.set_xticks(x)\n",
    "ax.set_xticklabels(metrics, fontsize=12)\n",
    "ax.set_yticks(np.linspace(0, 1.0, 6))\n",
    "ax.tick_params(axis='y', labelsize=12)\n",
    "ax.tick_params(axis='x', labelsize=12)\n",
    "ax.set_ylim(0, 1.05)\n",
    "\n",
    "# Legende\n",
    "ax.legend(title=\"Batch Size\", title_fontsize=12, fontsize=10, bbox_to_anchor=(1.05, 1), loc='upper left')\n",
    "\n",
    "# Gitter und Layout\n",
    "plt.grid(True, axis='y', linestyle='--', alpha=0.7)\n",
    "plt.tight_layout()\n",
    "plt.savefig(\"images/googlenet_batchsize_metrics.png\", dpi=300)\n",
    "plt.show()"
   ]
  },
  {
   "cell_type": "code",
   "execution_count": 6,
   "id": "75784eef-6a48-4d7b-8d81-d36b1cf97d03",
   "metadata": {},
   "outputs": [
    {
     "name": "stdout",
     "output_type": "stream",
     "text": [
      "              precision    recall  f1-score   support\n",
      "\n",
      "           0       0.89      0.94      0.92        88\n",
      "           1       0.81      0.80      0.80       100\n",
      "           2       0.71      0.69      0.70       100\n",
      "           3       0.93      0.87      0.90        15\n",
      "           4       1.00      0.71      0.83         7\n",
      "           5       0.92      0.84      0.88        55\n",
      "           6       0.85      0.79      0.81        14\n",
      "           7       0.92      0.95      0.93        80\n",
      "           8       1.00      0.80      0.89         5\n",
      "           9       0.75      0.76      0.76       100\n",
      "          10       0.74      0.87      0.80        99\n",
      "          11       0.40      0.29      0.33         7\n",
      "          12       0.92      0.84      0.88       100\n",
      "          13       0.75      0.86      0.80         7\n",
      "          14       0.90      0.88      0.89       100\n",
      "          15       0.74      0.80      0.77       100\n",
      "          16       0.82      0.80      0.81        82\n",
      "          17       0.70      0.70      0.70        10\n",
      "          18       0.87      0.88      0.88       100\n",
      "          19       0.86      0.63      0.73        19\n",
      "          20       0.80      0.96      0.87        53\n",
      "          21       1.00      0.92      0.96        13\n",
      "          22       0.80      0.80      0.80         5\n",
      "          23       0.85      0.86      0.86       100\n",
      "          24       0.00      0.00      0.00         5\n",
      "          25       0.82      0.73      0.77        99\n",
      "          26       0.84      0.82      0.83        77\n",
      "          27       0.98      0.90      0.94        52\n",
      "          28       1.00      1.00      1.00        16\n",
      "          29       0.77      0.87      0.82        23\n",
      "          30       0.92      0.93      0.93       100\n",
      "          31       0.79      0.88      0.84        43\n",
      "          32       0.90      0.86      0.88       100\n",
      "          33       0.89      0.91      0.90       100\n",
      "          34       0.75      0.82      0.78        11\n",
      "          35       0.83      0.83      0.83         6\n",
      "\n",
      "    accuracy                           0.84      1991\n",
      "   macro avg       0.82      0.80      0.81      1991\n",
      "weighted avg       0.84      0.84      0.84      1991\n",
      "\n"
     ]
    },
    {
     "name": "stderr",
     "output_type": "stream",
     "text": [
      "/home/kavo/.conda/envs/Katha/lib/python3.8/site-packages/sklearn/metrics/_classification.py:1471: UndefinedMetricWarning: Precision and F-score are ill-defined and being set to 0.0 in labels with no predicted samples. Use `zero_division` parameter to control this behavior.\n",
      "  _warn_prf(average, modifier, msg_start, len(result))\n",
      "/home/kavo/.conda/envs/Katha/lib/python3.8/site-packages/sklearn/metrics/_classification.py:1471: UndefinedMetricWarning: Precision and F-score are ill-defined and being set to 0.0 in labels with no predicted samples. Use `zero_division` parameter to control this behavior.\n",
      "  _warn_prf(average, modifier, msg_start, len(result))\n",
      "/home/kavo/.conda/envs/Katha/lib/python3.8/site-packages/sklearn/metrics/_classification.py:1471: UndefinedMetricWarning: Precision and F-score are ill-defined and being set to 0.0 in labels with no predicted samples. Use `zero_division` parameter to control this behavior.\n",
      "  _warn_prf(average, modifier, msg_start, len(result))\n"
     ]
    }
   ],
   "source": [
    "from sklearn.metrics import classification_report\n",
    "print(classification_report(y_true, y_pred))"
   ]
  },
  {
   "cell_type": "code",
   "execution_count": 4,
   "id": "6bfbc5c3-83e3-4ef8-9356-1847e94f3822",
   "metadata": {},
   "outputs": [
    {
     "data": {
      "text/html": [
       "\n",
       "<style>\n",
       "    /* Turns off some styling */\n",
       "    progress {\n",
       "        /* gets rid of default border in Firefox and Opera. */\n",
       "        border: none;\n",
       "        /* Needs to be in here for Safari polyfill so background images work as expected. */\n",
       "        background-size: auto;\n",
       "    }\n",
       "    progress:not([value]), progress:not([value])::-webkit-progress-bar {\n",
       "        background: repeating-linear-gradient(45deg, #7e7e7e, #7e7e7e 10px, #5c5c5c 10px, #5c5c5c 20px);\n",
       "    }\n",
       "    .progress-bar-interrupted, .progress-bar-interrupted::-webkit-progress-bar {\n",
       "        background: #F44336;\n",
       "    }\n",
       "</style>\n"
      ],
      "text/plain": [
       "<IPython.core.display.HTML object>"
      ]
     },
     "metadata": {},
     "output_type": "display_data"
    },
    {
     "data": {
      "text/html": [],
      "text/plain": [
       "<IPython.core.display.HTML object>"
      ]
     },
     "metadata": {},
     "output_type": "display_data"
    },
    {
     "name": "stderr",
     "output_type": "stream",
     "text": [
      "/home/kavo/.conda/envs/Katha/lib/python3.8/site-packages/sklearn/metrics/_classification.py:1471: UndefinedMetricWarning: Precision is ill-defined and being set to 0.0 in labels with no predicted samples. Use `zero_division` parameter to control this behavior.\n",
      "  _warn_prf(average, modifier, msg_start, len(result))\n"
     ]
    },
    {
     "data": {
      "text/html": [
       "\n",
       "<style>\n",
       "    /* Turns off some styling */\n",
       "    progress {\n",
       "        /* gets rid of default border in Firefox and Opera. */\n",
       "        border: none;\n",
       "        /* Needs to be in here for Safari polyfill so background images work as expected. */\n",
       "        background-size: auto;\n",
       "    }\n",
       "    progress:not([value]), progress:not([value])::-webkit-progress-bar {\n",
       "        background: repeating-linear-gradient(45deg, #7e7e7e, #7e7e7e 10px, #5c5c5c 10px, #5c5c5c 20px);\n",
       "    }\n",
       "    .progress-bar-interrupted, .progress-bar-interrupted::-webkit-progress-bar {\n",
       "        background: #F44336;\n",
       "    }\n",
       "</style>\n"
      ],
      "text/plain": [
       "<IPython.core.display.HTML object>"
      ]
     },
     "metadata": {},
     "output_type": "display_data"
    },
    {
     "data": {
      "text/html": [],
      "text/plain": [
       "<IPython.core.display.HTML object>"
      ]
     },
     "metadata": {},
     "output_type": "display_data"
    },
    {
     "data": {
      "text/html": [
       "\n",
       "<style>\n",
       "    /* Turns off some styling */\n",
       "    progress {\n",
       "        /* gets rid of default border in Firefox and Opera. */\n",
       "        border: none;\n",
       "        /* Needs to be in here for Safari polyfill so background images work as expected. */\n",
       "        background-size: auto;\n",
       "    }\n",
       "    progress:not([value]), progress:not([value])::-webkit-progress-bar {\n",
       "        background: repeating-linear-gradient(45deg, #7e7e7e, #7e7e7e 10px, #5c5c5c 10px, #5c5c5c 20px);\n",
       "    }\n",
       "    .progress-bar-interrupted, .progress-bar-interrupted::-webkit-progress-bar {\n",
       "        background: #F44336;\n",
       "    }\n",
       "</style>\n"
      ],
      "text/plain": [
       "<IPython.core.display.HTML object>"
      ]
     },
     "metadata": {},
     "output_type": "display_data"
    },
    {
     "data": {
      "text/html": [],
      "text/plain": [
       "<IPython.core.display.HTML object>"
      ]
     },
     "metadata": {},
     "output_type": "display_data"
    },
    {
     "name": "stdout",
     "output_type": "stream",
     "text": [
      "                       Model  Accuracy  F1 Score  Precision    Recall\n",
      "0  basemodel_googlenet_bs128  0.841286  0.839944   0.841415  0.841286\n",
      "1        googlenet_bs128+aug  0.850829  0.851074   0.854414  0.850829\n",
      "2   googlenet_bs128+aug+iNat  0.849824  0.848861   0.850982  0.849824\n"
     ]
    }
   ],
   "source": [
    "# Evaluation Tuning with GoogLeNet\n",
    "\n",
    "# Liste der Modelle\n",
    "models = [\n",
    "    \"basemodel_googlenet_bs128\",\n",
    "    \"googlenet_bs128+aug\",\n",
    "    \"googlenet_bs128+aug+iNat\"\n",
    "]\n",
    "\n",
    "# Basispfad zu den .pkl-Dateien\n",
    "base_path = \"basemodel_outputs\"\n",
    "\n",
    "\n",
    "# Ergebnisse speichern\n",
    "results = []\n",
    "\n",
    "for model_name in models:\n",
    "    path = f\"{base_path}/{model_name}.pkl\"\n",
    "    \n",
    "    # Modell laden\n",
    "    learn = load_learner(path)\n",
    "\n",
    "    # Vorhersagen\n",
    "    preds, targs = learn.get_preds(dl=test_dl)\n",
    "    y_pred = torch.argmax(preds, dim=1).numpy()\n",
    "    y_true = targs.numpy()\n",
    "    \n",
    "    # Metriken berechnen\n",
    "    accuracy = accuracy_score(y_true, y_pred)\n",
    "    f1 = f1_score(y_true, y_pred, average='weighted')\n",
    "    precision = precision_score(y_true, y_pred, average='weighted')\n",
    "    recall = recall_score(y_true, y_pred, average='weighted')\n",
    "    \n",
    "    results.append({\n",
    "        \"Model\": model_name,\n",
    "        \"Accuracy\": accuracy,\n",
    "        \"F1 Score\": f1,\n",
    "        \"Precision\": precision,\n",
    "        \"Recall\": recall\n",
    "    })\n",
    "\n",
    "# DataFrame mit Ergebnissen\n",
    "df_results = pd.DataFrame(results)\n",
    "print(df_results)\n"
   ]
  },
  {
   "cell_type": "code",
   "execution_count": null,
   "id": "7454f0e3-bf47-4317-8b67-72270f1960eb",
   "metadata": {},
   "outputs": [
    {
     "name": "stderr",
     "output_type": "stream",
     "text": [
      "/tmp/ipykernel_1744594/331390960.py:13: MatplotlibDeprecationWarning: The get_cmap function was deprecated in Matplotlib 3.7 and will be removed two minor releases later. Use ``matplotlib.colormaps[name]`` or ``matplotlib.colormaps.get_cmap(obj)`` instead.\n",
      "  cmap = cm.get_cmap('Blues')\n"
     ]
    },
    {
     "data": {
      "image/png": "[encoded data removed]",
      "text/plain": [
       "<Figure size 1100x300 with 1 Axes>"
      ]
     },
     "metadata": {},
     "output_type": "display_data"
    }
   ],
   "source": [
    "# Metriken & Modelle\n",
    "metrics = ['Accuracy', 'F1 Score', 'Precision', 'Recall']\n",
    "n_metrics = len(metrics)\n",
    "n_models = len(df_results)\n",
    "group_width = 1.2 \n",
    "bar_width = group_width / n_models\n",
    "gap = 0.5  \n",
    "\n",
    "# X-Positionen der Metrikgruppen\n",
    "x = np.arange(n_metrics) * (1 + gap)\n",
    "\n",
    "# Farben aus der \"Blues\"-Colormap\n",
    "cmap = cm.get_cmap('Blues')\n",
    "colors = [cmap(0.3 + 0.8 * i / max(1, n_models - 1)) for i in range(n_models)]\n",
    "\n",
    "# Mapping der Modellnamen für schönere Beschriftung\n",
    "label_map = {\n",
    "    \"basemodel_googlenet_bs128\": \"GoogLeNet Basemodel\",\n",
    "    \"googlenet_bs128+aug\": \"GoogLeNet with augmented images\",\n",
    "    \"googlenet_bs128+augm+iNat\": \"GoogLeNet with augmented & scraped images\"\n",
    "}\n",
    "\n",
    "# Plot\n",
    "fig, ax = plt.subplots(figsize=(11, 3))\n",
    "\n",
    "for i, (idx, row) in enumerate(df_results.iterrows()):\n",
    "    scores = [row[m] for m in metrics]\n",
    "    offset = x + i * bar_width - group_width / 2 + bar_width / 2\n",
    "    label = label_map.get(row['Model'], row['Model'])  # Fallback auf Originalname\n",
    "    ax.bar(offset, scores, width=bar_width, label=label, color=colors[i])\n",
    "\n",
    "# Achsen & Styling\n",
    "ax.set_ylabel('Score', fontsize=12)\n",
    "ax.set_title('GoogLeNet Performance with Data Augmentation and External Data Integration')\n",
    "ax.set_xticks(x)\n",
    "ax.set_xticklabels(metrics, fontsize=11)\n",
    "ax.set_ylim(0.7, 1.0)\n",
    "ax.legend(title=\"Models\", title_fontsize=12, bbox_to_anchor=(1.05, 1), loc='upper left', fontsize=10)\n",
    "plt.grid(True, axis='y', linestyle='--', alpha=0.7)\n",
    "plt.tight_layout()\n",
    "plt.savefig(\"images/GoogLeNet_tuning_metrics.png\", dpi=300)\n",
    "plt.show()"
   ]
  }
 ],
 "metadata": {
  "kernelspec": {
   "display_name": "Katha",
   "language": "python",
   "name": "katha"
  },
  "language_info": {
   "codemirror_mode": {
    "name": "ipython",
    "version": 3
   },
   "file_extension": ".py",
   "mimetype": "text/x-python",
   "name": "python",
   "nbconvert_exporter": "python",
   "pygments_lexer": "ipython3",
   "version": "3.8.19"
  }
 },
 "nbformat": 4,
 "nbformat_minor": 5
}
