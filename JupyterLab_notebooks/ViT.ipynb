{
 "cells": [
  {
   "cell_type": "code",
   "execution_count": 8,
   "id": "31d65a31-f415-41ff-8981-09bbe4ed3846",
   "metadata": {},
   "outputs": [],
   "source": [
    "import os\n",
    "import neptune\n",
    "import torch\n",
    "import json\n",
    "import pandas as pd\n",
    "import numpy as np\n",
    "import matplotlib.pyplot as plt\n",
    "import seaborn as sns\n",
    "from fastai.vision.all import *\n",
    "from sklearn.metrics import accuracy_score, f1_score, precision_score, recall_score, confusion_matrix, classification_report\n",
    "import matplotlib.cm as cm\n",
    "from fastai.learner import load_learner"
   ]
  },
  {
   "cell_type": "code",
   "execution_count": 6,
   "id": "c296857c-5aa3-4d47-9d7f-7f3b24a53cea",
   "metadata": {},
   "outputs": [
    {
     "name": "stdout",
     "output_type": "stream",
     "text": [
      "cuda:2\n"
     ]
    }
   ],
   "source": [
    "device_id = 2\n",
    "device = torch.device(f\"cuda:{device_id}\" if torch.cuda.is_available() else \"cpu\")\n",
    "print(device)"
   ]
  },
  {
   "cell_type": "code",
   "execution_count": null,
   "id": "a5669854-c152-4670-b86a-d1a23c03a542",
   "metadata": {},
   "outputs": [
    {
     "name": "stdout",
     "output_type": "stream",
     "text": [
      "cuda\n"
     ]
    }
   ],
   "source": [
    "# Testdatensatz laden\n",
    "DATASET_DIR = \"balanced_dataset_split/balanced_dataset_split\"\n",
    "JSON_PATH = \"train_test_split_new.json\"\n",
    "\n",
    "with open(JSON_PATH, \"r\") as f:\n",
    "    split_data = json.load(f)\n",
    "\n",
    "df_test = pd.DataFrame(split_data[\"test\"])\n",
    "df_test[\"image_path\"] = df_test[\"file_path\"].apply(lambda x: os.path.join(DATASET_DIR, x))\n",
    "\n",
    "# Vokabular für die Labels erstellen\n",
    "vocab = df_test[\"label\"].unique().tolist()\n",
    "\n",
    "# DataBlock für Testdaten\n",
    "dblock = DataBlock(\n",
    "    blocks=(ImageBlock, CategoryBlock(vocab=vocab)),\n",
    "    get_x=ColReader('image_path'),\n",
    "    get_y=ColReader('label'),\n",
    "    splitter=RandomSplitter(valid_pct=0.2, seed=42),\n",
    "    item_tfms=Resize(224),\n",
    ")\n",
    "dls = dblock.dataloaders(df_test, bs=64, num_workers=8)\n",
    "test_dl = dls.test_dl(df_test, with_labels=True)\n",
    "\n",
    "\n",
    "device = torch.device(\"cuda\" if torch.cuda.is_available() else \"cpu\")\n",
    "print(device)\n"
   ]
  },
  {
   "cell_type": "code",
   "execution_count": null,
   "id": "0c40cc97-9cb6-46f3-9b4a-fedab4df7eac",
   "metadata": {},
   "outputs": [
    {
     "name": "stdout",
     "output_type": "stream",
     "text": [
      "[neptune] [info   ] Neptune initialized. Open in the app: https://app.neptune.ai/katzn13/DL-models/\n",
      "[neptune] [info   ] Neptune initialized. Open in the app: https://app.neptune.ai/katzn13/DL-models/e/DLMOD-130\n"
     ]
    },
    {
     "data": {
      "application/vnd.jupyter.widget-view+json": {
       "model_id": "ee239eac112d4931a571c4bd93063bf0",
       "version_major": 2,
       "version_minor": 0
      },
      "text/plain": [
       "Fetching file...: 0 [00:00, ?/s]"
      ]
     },
     "metadata": {},
     "output_type": "display_data"
    },
    {
     "name": "stdout",
     "output_type": "stream",
     "text": [
      "✅ Modell googlenet_bs128+aug erfolgreich heruntergeladen\n",
      "[neptune] [info   ] Shutting down background jobs, please wait a moment...\n",
      "[neptune] [info   ] Done!\n",
      "[neptune] [info   ] Explore the metadata in the Neptune app: https://app.neptune.ai/katzn13/DL-models/e/DLMOD-130/metadata\n"
     ]
    }
   ],
   "source": [
    "# load ViT model from neptune\n",
    "\n",
    "# Neptune.ai API-Token und Projektname\n",
    "api_token=\"insert_your_api_token_here\"  # durch tatsächlichen API-Token ersetzen\n",
    "project_name = \"insert_your_project_name_here\"  # durch tatsächlichen Projektname ersetzen\n",
    "\n",
    "run_id = \"DLMOD-130\"\n",
    "model_name = \"googlenet_bs128+aug\"\n",
    "\n",
    "# Neptune.ai-Projekt initialisieren\n",
    "project = neptune.init_project(\n",
    "    project=project_name,\n",
    "    api_token=api_token,\n",
    "    mode=\"read-only\"\n",
    ")\n",
    "\n",
    "# Neptune Run initialisieren\n",
    "run = neptune.init_run(\n",
    "    project=project_name,\n",
    "    api_token=api_token,\n",
    "    with_id=run_id,\n",
    "    mode=\"read-only\"\n",
    ")\n",
    "local_model_path = f\"basemodel_outputs/{model_name}.pkl\"\n",
    "\n",
    "# Modell aus Neptune herunterladen\n",
    "model_checkpoint_path = f\"model\"\n",
    "run[model_checkpoint_path].download(local_model_path)\n",
    "print(f\"✅ Modell {model_name} erfolgreich heruntergeladen\")\n",
    "\n",
    "# Neptune-Session beenden\n",
    "run.stop()"
   ]
  },
  {
   "cell_type": "code",
   "execution_count": 5,
   "id": "f5030f5d-c919-4ed1-91a5-a1a4fc9ae6c9",
   "metadata": {},
   "outputs": [
    {
     "data": {
      "text/html": [
       "\n",
       "<style>\n",
       "    /* Turns off some styling */\n",
       "    progress {\n",
       "        /* gets rid of default border in Firefox and Opera. */\n",
       "        border: none;\n",
       "        /* Needs to be in here for Safari polyfill so background images work as expected. */\n",
       "        background-size: auto;\n",
       "    }\n",
       "    progress:not([value]), progress:not([value])::-webkit-progress-bar {\n",
       "        background: repeating-linear-gradient(45deg, #7e7e7e, #7e7e7e 10px, #5c5c5c 10px, #5c5c5c 20px);\n",
       "    }\n",
       "    .progress-bar-interrupted, .progress-bar-interrupted::-webkit-progress-bar {\n",
       "        background: #F44336;\n",
       "    }\n",
       "</style>\n"
      ],
      "text/plain": [
       "<IPython.core.display.HTML object>"
      ]
     },
     "metadata": {},
     "output_type": "display_data"
    },
    {
     "data": {
      "text/html": [],
      "text/plain": [
       "<IPython.core.display.HTML object>"
      ]
     },
     "metadata": {},
     "output_type": "display_data"
    },
    {
     "data": {
      "text/html": [
       "\n",
       "<style>\n",
       "    /* Turns off some styling */\n",
       "    progress {\n",
       "        /* gets rid of default border in Firefox and Opera. */\n",
       "        border: none;\n",
       "        /* Needs to be in here for Safari polyfill so background images work as expected. */\n",
       "        background-size: auto;\n",
       "    }\n",
       "    progress:not([value]), progress:not([value])::-webkit-progress-bar {\n",
       "        background: repeating-linear-gradient(45deg, #7e7e7e, #7e7e7e 10px, #5c5c5c 10px, #5c5c5c 20px);\n",
       "    }\n",
       "    .progress-bar-interrupted, .progress-bar-interrupted::-webkit-progress-bar {\n",
       "        background: #F44336;\n",
       "    }\n",
       "</style>\n"
      ],
      "text/plain": [
       "<IPython.core.display.HTML object>"
      ]
     },
     "metadata": {},
     "output_type": "display_data"
    },
    {
     "data": {
      "text/html": [],
      "text/plain": [
       "<IPython.core.display.HTML object>"
      ]
     },
     "metadata": {},
     "output_type": "display_data"
    },
    {
     "data": {
      "text/html": [
       "\n",
       "<style>\n",
       "    /* Turns off some styling */\n",
       "    progress {\n",
       "        /* gets rid of default border in Firefox and Opera. */\n",
       "        border: none;\n",
       "        /* Needs to be in here for Safari polyfill so background images work as expected. */\n",
       "        background-size: auto;\n",
       "    }\n",
       "    progress:not([value]), progress:not([value])::-webkit-progress-bar {\n",
       "        background: repeating-linear-gradient(45deg, #7e7e7e, #7e7e7e 10px, #5c5c5c 10px, #5c5c5c 20px);\n",
       "    }\n",
       "    .progress-bar-interrupted, .progress-bar-interrupted::-webkit-progress-bar {\n",
       "        background: #F44336;\n",
       "    }\n",
       "</style>\n"
      ],
      "text/plain": [
       "<IPython.core.display.HTML object>"
      ]
     },
     "metadata": {},
     "output_type": "display_data"
    },
    {
     "data": {
      "text/html": [],
      "text/plain": [
       "<IPython.core.display.HTML object>"
      ]
     },
     "metadata": {},
     "output_type": "display_data"
    },
    {
     "data": {
      "text/html": [
       "\n",
       "<style>\n",
       "    /* Turns off some styling */\n",
       "    progress {\n",
       "        /* gets rid of default border in Firefox and Opera. */\n",
       "        border: none;\n",
       "        /* Needs to be in here for Safari polyfill so background images work as expected. */\n",
       "        background-size: auto;\n",
       "    }\n",
       "    progress:not([value]), progress:not([value])::-webkit-progress-bar {\n",
       "        background: repeating-linear-gradient(45deg, #7e7e7e, #7e7e7e 10px, #5c5c5c 10px, #5c5c5c 20px);\n",
       "    }\n",
       "    .progress-bar-interrupted, .progress-bar-interrupted::-webkit-progress-bar {\n",
       "        background: #F44336;\n",
       "    }\n",
       "</style>\n"
      ],
      "text/plain": [
       "<IPython.core.display.HTML object>"
      ]
     },
     "metadata": {},
     "output_type": "display_data"
    },
    {
     "data": {
      "text/html": [],
      "text/plain": [
       "<IPython.core.display.HTML object>"
      ]
     },
     "metadata": {},
     "output_type": "display_data"
    },
    {
     "data": {
      "text/html": [
       "\n",
       "<style>\n",
       "    /* Turns off some styling */\n",
       "    progress {\n",
       "        /* gets rid of default border in Firefox and Opera. */\n",
       "        border: none;\n",
       "        /* Needs to be in here for Safari polyfill so background images work as expected. */\n",
       "        background-size: auto;\n",
       "    }\n",
       "    progress:not([value]), progress:not([value])::-webkit-progress-bar {\n",
       "        background: repeating-linear-gradient(45deg, #7e7e7e, #7e7e7e 10px, #5c5c5c 10px, #5c5c5c 20px);\n",
       "    }\n",
       "    .progress-bar-interrupted, .progress-bar-interrupted::-webkit-progress-bar {\n",
       "        background: #F44336;\n",
       "    }\n",
       "</style>\n"
      ],
      "text/plain": [
       "<IPython.core.display.HTML object>"
      ]
     },
     "metadata": {},
     "output_type": "display_data"
    },
    {
     "data": {
      "text/html": [],
      "text/plain": [
       "<IPython.core.display.HTML object>"
      ]
     },
     "metadata": {},
     "output_type": "display_data"
    },
    {
     "name": "stdout",
     "output_type": "stream",
     "text": [
      "                 Model  Accuracy  F1 Score  Precision    Recall\n",
      "0    basemodel_ViT_bs8  0.870919  0.871205   0.877864  0.870919\n",
      "1   basemodel_ViT_bs16  0.877951  0.877617   0.886291  0.877951\n",
      "2   basemodel_ViT_bs32  0.882471  0.881873   0.888366  0.882471\n",
      "3   basemodel_ViT_bs64  0.899046  0.899423   0.906950  0.899046\n",
      "4  basemodel_ViT_bs128  0.893521  0.893504   0.901419  0.893521\n"
     ]
    }
   ],
   "source": [
    "# Evaluate ViT models\n",
    "\n",
    "# Liste der Modelle\n",
    "models = [\n",
    "    \"basemodel_ViT_bs8\",\n",
    "    \"basemodel_ViT_bs16\",\n",
    "    \"basemodel_ViT_bs32\",\n",
    "    \"basemodel_ViT_bs64\",\n",
    "    \"basemodel_ViT_bs128\"\n",
    "]\n",
    "\n",
    "# Basispfad zu den .pkl-Dateien\n",
    "base_path = \"basemodel_outputs\"\n",
    "\n",
    "\n",
    "# Ergebnisse speichern\n",
    "results = []\n",
    "\n",
    "for model_name in models:\n",
    "    path = f\"{base_path}/{model_name}.pkl\"\n",
    "    \n",
    "    # Modell laden\n",
    "    learn = load_learner(path)\n",
    "\n",
    "    # Vorhersagen\n",
    "    preds, targs = learn.get_preds(dl=test_dl)\n",
    "    y_pred = torch.argmax(preds, dim=1).numpy()\n",
    "    y_true = targs.numpy()\n",
    "    \n",
    "    # Metriken berechnen\n",
    "    accuracy = accuracy_score(y_true, y_pred)\n",
    "    f1 = f1_score(y_true, y_pred, average='weighted')\n",
    "    precision = precision_score(y_true, y_pred, average='weighted')\n",
    "    recall = recall_score(y_true, y_pred, average='weighted')\n",
    "    \n",
    "    results.append({\n",
    "        \"Model\": model_name,\n",
    "        \"Accuracy\": accuracy,\n",
    "        \"F1 Score\": f1,\n",
    "        \"Precision\": precision,\n",
    "        \"Recall\": recall\n",
    "    })\n",
    "\n",
    "# DataFrame mit Ergebnissen\n",
    "df_results = pd.DataFrame(results)\n",
    "print(df_results)\n"
   ]
  },
  {
   "cell_type": "code",
   "execution_count": null,
   "id": "8cdfb1ee-b639-4896-8055-ba8628af18eb",
   "metadata": {},
   "outputs": [],
   "source": [
    "# Metriken & Modelle\n",
    "metrics = ['Accuracy', 'F1 Score', 'Precision', 'Recall']\n",
    "n_metrics = len(metrics)\n",
    "n_models = len(df_results)\n",
    "group_width = 1.2  \n",
    "bar_width = group_width / n_models\n",
    "gap = 0.5  \n",
    "\n",
    "# X-Positionen der Metrikgruppen\n",
    "x = np.arange(n_metrics) * (1 + gap)\n",
    "\n",
    "# Farben aus der \"Blues\"-Colormap\n",
    "cmap = cm.get_cmap('Blues')\n",
    "colors = [cmap(0.3 + 0.8 * i / max(1, n_models - 1)) for i in range(n_models)]\n",
    "\n",
    "# Mapping der Modellnamen für schönere Beschriftung\n",
    "label_map = {\n",
    "    \"basemodel_ViT_bs8\": \"8\",\n",
    "    \"basemodel_ViT_bs16\": \"16\",\n",
    "    \"basemodel_ViT_bs32\": \"32\",\n",
    "    \"basemodel_ViT_bs64\": \"64\",\n",
    "    \"basemodel_ViT_bs128\": \"128\"\n",
    "}\n",
    "\n",
    "# Plot\n",
    "fig, ax = plt.subplots(figsize=(12, 5))\n",
    "\n",
    "for i, (idx, row) in enumerate(df_results.iterrows()):\n",
    "    scores = [row[m] for m in metrics]\n",
    "    offset = x + i * bar_width - group_width / 2 + bar_width / 2\n",
    "    label = label_map.get(row['Model'], row['Model'])\n",
    "    ax.bar(offset, scores, width=bar_width, label=label, color=colors[i])\n",
    "\n",
    "# Achsen & Styling\n",
    "ax.set_ylabel('Score', fontsize=12)\n",
    "ax.set_title('Metrics for ViT with different batch sizes', fontsize=12)\n",
    "ax.set_xticks(x)\n",
    "ax.set_xticklabels(metrics, fontsize=12)\n",
    "ax.set_yticks(np.linspace(0, 1.0, 6))\n",
    "ax.tick_params(axis='y', labelsize=12)\n",
    "ax.tick_params(axis='x', labelsize=12)\n",
    "ax.set_ylim(0, 1.05)\n",
    "\n",
    "# Legende\n",
    "ax.legend(title=\"Batch Size\", title_fontsize=12, fontsize=10, bbox_to_anchor=(1.05, 1), loc='upper left')\n",
    "\n",
    "# Gitter und Layout\n",
    "plt.grid(True, axis='y', linestyle='--', alpha=0.7)\n",
    "plt.tight_layout()\n",
    "plt.savefig(\"images/vit_batchsize_metrics.png\", dpi=300)\n",
    "plt.show()"
   ]
  },
  {
   "cell_type": "code",
   "execution_count": 4,
   "id": "09e9da07-bab0-4a81-a706-741baf0e2090",
   "metadata": {
    "scrolled": true
   },
   "outputs": [
    {
     "data": {
      "text/html": [
       "\n",
       "<style>\n",
       "    /* Turns off some styling */\n",
       "    progress {\n",
       "        /* gets rid of default border in Firefox and Opera. */\n",
       "        border: none;\n",
       "        /* Needs to be in here for Safari polyfill so background images work as expected. */\n",
       "        background-size: auto;\n",
       "    }\n",
       "    progress:not([value]), progress:not([value])::-webkit-progress-bar {\n",
       "        background: repeating-linear-gradient(45deg, #7e7e7e, #7e7e7e 10px, #5c5c5c 10px, #5c5c5c 20px);\n",
       "    }\n",
       "    .progress-bar-interrupted, .progress-bar-interrupted::-webkit-progress-bar {\n",
       "        background: #F44336;\n",
       "    }\n",
       "</style>\n"
      ],
      "text/plain": [
       "<IPython.core.display.HTML object>"
      ]
     },
     "metadata": {},
     "output_type": "display_data"
    },
    {
     "data": {
      "text/html": [],
      "text/plain": [
       "<IPython.core.display.HTML object>"
      ]
     },
     "metadata": {},
     "output_type": "display_data"
    },
    {
     "data": {
      "text/html": [
       "\n",
       "<style>\n",
       "    /* Turns off some styling */\n",
       "    progress {\n",
       "        /* gets rid of default border in Firefox and Opera. */\n",
       "        border: none;\n",
       "        /* Needs to be in here for Safari polyfill so background images work as expected. */\n",
       "        background-size: auto;\n",
       "    }\n",
       "    progress:not([value]), progress:not([value])::-webkit-progress-bar {\n",
       "        background: repeating-linear-gradient(45deg, #7e7e7e, #7e7e7e 10px, #5c5c5c 10px, #5c5c5c 20px);\n",
       "    }\n",
       "    .progress-bar-interrupted, .progress-bar-interrupted::-webkit-progress-bar {\n",
       "        background: #F44336;\n",
       "    }\n",
       "</style>\n"
      ],
      "text/plain": [
       "<IPython.core.display.HTML object>"
      ]
     },
     "metadata": {},
     "output_type": "display_data"
    },
    {
     "data": {
      "text/html": [],
      "text/plain": [
       "<IPython.core.display.HTML object>"
      ]
     },
     "metadata": {},
     "output_type": "display_data"
    },
    {
     "data": {
      "text/html": [
       "\n",
       "<style>\n",
       "    /* Turns off some styling */\n",
       "    progress {\n",
       "        /* gets rid of default border in Firefox and Opera. */\n",
       "        border: none;\n",
       "        /* Needs to be in here for Safari polyfill so background images work as expected. */\n",
       "        background-size: auto;\n",
       "    }\n",
       "    progress:not([value]), progress:not([value])::-webkit-progress-bar {\n",
       "        background: repeating-linear-gradient(45deg, #7e7e7e, #7e7e7e 10px, #5c5c5c 10px, #5c5c5c 20px);\n",
       "    }\n",
       "    .progress-bar-interrupted, .progress-bar-interrupted::-webkit-progress-bar {\n",
       "        background: #F44336;\n",
       "    }\n",
       "</style>\n"
      ],
      "text/plain": [
       "<IPython.core.display.HTML object>"
      ]
     },
     "metadata": {},
     "output_type": "display_data"
    },
    {
     "data": {
      "text/html": [],
      "text/plain": [
       "<IPython.core.display.HTML object>"
      ]
     },
     "metadata": {},
     "output_type": "display_data"
    },
    {
     "name": "stdout",
     "output_type": "stream",
     "text": [
      "                          Model  Accuracy  F1 Score  Precision    Recall\n",
      "0            basemodel_ViT_bs64  0.899046  0.899423   0.906950  0.899046\n",
      "1       basemodel_ViT_bs64+augm  0.899046  0.898600   0.903551  0.899046\n",
      "2  basemodel_ViT_bs64+augm+iNat  0.903064  0.902951   0.906097  0.903064\n"
     ]
    }
   ],
   "source": [
    "# Evaluation Tuning mit ViT\n",
    "\n",
    "# Liste der Modelle\n",
    "models = [\n",
    "    \"basemodel_ViT_bs64\",\n",
    "    \"basemodel_ViT_bs64+augm\",\n",
    "    \"basemodel_ViT_bs64+augm+iNat\"\n",
    "]\n",
    "\n",
    "# Basispfad zu den .pkl-Dateien\n",
    "base_path = \"basemodel_outputs\"\n",
    "\n",
    "\n",
    "# Ergebnisse speichern\n",
    "results = []\n",
    "\n",
    "for model_name in models:\n",
    "    path = f\"{base_path}/{model_name}.pkl\"\n",
    "    \n",
    "    # Modell laden\n",
    "    learn = load_learner(path)\n",
    "\n",
    "    # Vorhersagen\n",
    "    preds, targs = learn.get_preds(dl=test_dl)\n",
    "    y_pred = torch.argmax(preds, dim=1).numpy()\n",
    "    y_true = targs.numpy()\n",
    "    \n",
    "    # Metriken berechnen\n",
    "    accuracy = accuracy_score(y_true, y_pred)\n",
    "    f1 = f1_score(y_true, y_pred, average='weighted')\n",
    "    precision = precision_score(y_true, y_pred, average='weighted')\n",
    "    recall = recall_score(y_true, y_pred, average='weighted')\n",
    "    \n",
    "    results.append({\n",
    "        \"Model\": model_name,\n",
    "        \"Accuracy\": accuracy,\n",
    "        \"F1 Score\": f1,\n",
    "        \"Precision\": precision,\n",
    "        \"Recall\": recall\n",
    "    })\n",
    "\n",
    "# DataFrame mit Ergebnissen\n",
    "df_results = pd.DataFrame(results)\n",
    "print(df_results)\n"
   ]
  },
  {
   "cell_type": "code",
   "execution_count": null,
   "id": "30c25dae-7f4e-41c2-bd61-fd206e07632b",
   "metadata": {},
   "outputs": [
    {
     "name": "stderr",
     "output_type": "stream",
     "text": [
      "/tmp/ipykernel_4187651/2565579375.py:13: MatplotlibDeprecationWarning: The get_cmap function was deprecated in Matplotlib 3.7 and will be removed two minor releases later. Use ``matplotlib.colormaps[name]`` or ``matplotlib.colormaps.get_cmap(obj)`` instead.\n",
      "  cmap = cm.get_cmap('Blues')\n"
     ]
    },
    {
     "data": {
      "image/png": "[encoded data removed]",
      "text/plain": [
       "<Figure size 1200x400 with 1 Axes>"
      ]
     },
     "metadata": {},
     "output_type": "display_data"
    }
   ],
   "source": [
    "# Metriken & Modelle\n",
    "metrics = ['Accuracy', 'F1 Score', 'Precision', 'Recall']\n",
    "n_metrics = len(metrics)\n",
    "n_models = len(df_results)\n",
    "group_width = 1.2  \n",
    "bar_width = group_width / n_models\n",
    "gap = 0.5  \n",
    "\n",
    "# X-Positionen der Metrikgruppen\n",
    "x = np.arange(n_metrics) * (1 + gap)\n",
    "\n",
    "# Farben aus der \"Blues\"-Colormap\n",
    "cmap = cm.get_cmap('Blues')\n",
    "colors = [cmap(0.3 + 0.8 * i / max(1, n_models - 1)) for i in range(n_models)]\n",
    "\n",
    "# Mapping der Modellnamen für schönere Beschriftung\n",
    "label_map = {\n",
    "    \"basemodel_ViT_bs64\": \"ViT Basemodel\",\n",
    "    \"basemodel_ViT_bs64+augm\": \"ViT with augmented images\",\n",
    "    \"basemodel_ViT_bs64+augm+iNat\": \"ViT with augmented & scraped images\"\n",
    "}\n",
    "\n",
    "# Plot\n",
    "fig, ax = plt.subplots(figsize=(12, 4))\n",
    "\n",
    "for i, (idx, row) in enumerate(df_results.iterrows()):\n",
    "    scores = [row[m] for m in metrics]\n",
    "    offset = x + i * bar_width - group_width / 2 + bar_width / 2\n",
    "    label = label_map.get(row['Model'], row['Model'])  # Fallback auf Originalname\n",
    "    ax.bar(offset, scores, width=bar_width, label=label, color=colors[i])\n",
    "\n",
    "# Achsen & Styling\n",
    "ax.set_ylabel('Score', fontsize=12)\n",
    "ax.set_title('ViT Performance with Data Augmentation and External Data Integration')\n",
    "ax.set_xticks(x)\n",
    "ax.set_xticklabels(metrics, fontsize=11)\n",
    "ax.set_ylim(0.7, 1.0)\n",
    "ax.legend(title=\"Models\", title_fontsize=12, bbox_to_anchor=(1.05, 1), loc='upper left', fontsize=11)\n",
    "plt.grid(True, axis='y', linestyle='--', alpha=0.7)\n",
    "plt.tight_layout()\n",
    "plt.savefig(\"images/ViT_tuning_metrics.png\", dpi=300)\n",
    "plt.show()"
   ]
  }
 ],
 "metadata": {
  "kernelspec": {
   "display_name": "Katha",
   "language": "python",
   "name": "katha"
  },
  "language_info": {
   "codemirror_mode": {
    "name": "ipython",
    "version": 3
   },
   "file_extension": ".py",
   "mimetype": "text/x-python",
   "name": "python",
   "nbconvert_exporter": "python",
   "pygments_lexer": "ipython3",
   "version": "3.8.19"
  }
 },
 "nbformat": 4,
 "nbformat_minor": 5
}
