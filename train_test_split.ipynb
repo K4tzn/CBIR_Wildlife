{
 "cells": [
  {
   "cell_type": "code",
   "execution_count": 1,
   "metadata": {},
   "outputs": [],
   "source": [
    "import os\n",
    "import shutil\n",
    "import json\n",
    "import random\n",
    "import re "
   ]
  },
  {
   "cell_type": "code",
   "execution_count": null,
   "metadata": {},
   "outputs": [
    {
     "name": "stdout",
     "output_type": "stream",
     "text": [
      "✅ Train/Test-Split fertig! Bilder gespeichert in: balanced_dataset_split\n"
     ]
    }
   ],
   "source": [
    "# Originalbilder aus balanced_dataset\n",
    "dataset_path = \"balanced_dataset\"\n",
    "\n",
    "# Zielordner für den neuen Split\n",
    "split_path = \"balanced_dataset_split\"\n",
    "train_path = os.path.join(split_path, \"train\")\n",
    "test_path = os.path.join(split_path, \"test\")\n",
    "\n",
    "# Verhältnis für den Split (z. B. 80% Train, 20% Test)\n",
    "train_ratio = 0.8\n",
    "\n",
    "# Feste Seed für Reproduzierbarkeit\n",
    "random.seed(42)\n",
    "\n",
    "# Falls der Split-Ordner schon existiert, lösche ihn, um doppelte Daten zu vermeiden\n",
    "if os.path.exists(split_path):\n",
    "    shutil.rmtree(split_path)\n",
    "\n",
    "# Erstelle Zielverzeichnisse\n",
    "for folder in [train_path, test_path]:\n",
    "    os.makedirs(folder, exist_ok=True)\n",
    "\n",
    "# Train/Test-Split erstellen\n",
    "for category in os.listdir(dataset_path):\n",
    "    category_path = os.path.join(dataset_path, category)\n",
    "\n",
    "    if os.path.isdir(category_path):\n",
    "        images = os.listdir(category_path)\n",
    "        random.shuffle(images)  # Zufällige Reihenfolge (aber gleiche durch Seed)\n",
    "        \n",
    "        split_idx = int(len(images) * train_ratio)\n",
    "        train_images = images[:split_idx]\n",
    "        test_images = images[split_idx:]\n",
    "\n",
    "        # Zielverzeichnisse für diese Kategorie erstellen\n",
    "        os.makedirs(os.path.join(train_path, category), exist_ok=True)\n",
    "        os.makedirs(os.path.join(test_path, category), exist_ok=True)\n",
    "\n",
    "        # Bilder verschieben/kopieren\n",
    "        for img in train_images:\n",
    "            shutil.copy(os.path.join(category_path, img), os.path.join(train_path, category, img))\n",
    "        \n",
    "        for img in test_images:\n",
    "            shutil.copy(os.path.join(category_path, img), os.path.join(test_path, category, img))\n",
    "\n",
    "print(f\"✅ Train/Test-Split fertig! Bilder gespeichert in: {split_path}\")\n"
   ]
  },
  {
   "cell_type": "code",
   "execution_count": 3,
   "metadata": {},
   "outputs": [
    {
     "name": "stdout",
     "output_type": "stream",
     "text": [
      "Train length: 36\n",
      "Test length: 36\n"
     ]
    }
   ],
   "source": [
    "# Zielordner für den neuen Split\n",
    "split_path = \"balanced_dataset_split\"\n",
    "train_path = os.path.join(split_path, \"train\")\n",
    "test_path = os.path.join(split_path, \"test\")\n",
    "\n",
    "# länge train und test\n",
    "train_length = len(os.listdir(train_path))\n",
    "test_length = len(os.listdir(test_path))\n",
    "\n",
    "print(f\"Train length: {train_length}\")\n",
    "print(f\"Test length: {test_length}\")    "
   ]
  },
  {
   "cell_type": "code",
   "execution_count": 4,
   "metadata": {},
   "outputs": [
    {
     "name": "stdout",
     "output_type": "stream",
     "text": [
      "✅ Train/Test-JSON gespeichert als 'JSONs/train_test_split_new.json' mit 7900 Trainings- und 1991 Testbildern.\n"
     ]
    }
   ],
   "source": [
    "# Train/Test-JSON erstellen\n",
    "train_data = []\n",
    "test_data = []\n",
    "\n",
    "# Durchlaufe Train- und Test-Ordner\n",
    "for split, split_data in [(\"train\", train_data), (\"test\", test_data)]:\n",
    "    split_dir = os.path.join(split_path, split)\n",
    "    \n",
    "    for category in os.listdir(split_dir):\n",
    "        category_path = os.path.join(split_dir, category)\n",
    "        \n",
    "        if os.path.isdir(category_path):\n",
    "            for img in os.listdir(category_path):\n",
    "                img_path = os.path.join(split, category, img).replace(\"\\\\\", \"/\")\n",
    "                split_data.append({\"file_path\": img_path, \"label\": category})\n",
    "\n",
    "# Speichere die JSON\n",
    "json_data = {\"train\": train_data, \"test\": test_data}\n",
    "\n",
    "json_output_path = \"JSONs/train_test_split_new.json\"\n",
    "os.makedirs(\"JSONs\", exist_ok=True)  # Falls der JSON-Ordner nicht existiert, erstelle ihn\n",
    "\n",
    "with open(json_output_path, \"w\") as f:\n",
    "    json.dump(json_data, f, indent=4)\n",
    "\n",
    "print(f\"✅ Train/Test-JSON gespeichert als '{json_output_path}' mit {len(train_data)} Trainings- und {len(test_data)} Testbildern.\")"
   ]
  }
 ],
 "metadata": {
  "kernelspec": {
   "display_name": "tf-env",
   "language": "python",
   "name": "python3"
  },
  "language_info": {
   "codemirror_mode": {
    "name": "ipython",
    "version": 3
   },
   "file_extension": ".py",
   "mimetype": "text/x-python",
   "name": "python",
   "nbconvert_exporter": "python",
   "pygments_lexer": "ipython3",
   "version": "3.10.11"
  }
 },
 "nbformat": 4,
 "nbformat_minor": 2
}
