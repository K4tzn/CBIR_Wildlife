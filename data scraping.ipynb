{
 "cells": [
  {
   "cell_type": "code",
   "execution_count": 1,
   "metadata": {},
   "outputs": [],
   "source": [
    "import os\n",
    "import requests\n",
    "from tqdm import tqdm\n",
    "from PIL import Image\n",
    "from io import BytesIO\n",
    "import pandas as pd"
   ]
  },
  {
   "cell_type": "markdown",
   "metadata": {},
   "source": [
    "API von iNaturalist nutzen um Bilder für Kategorien zu scrapen, die weniger Bilder als der Median (263) haben\n",
    "(\"aves\" rausgelassen weil war zwar unterrepräsentiert aber aves = vögel und zu ungenau fürs scraping)"
   ]
  },
  {
   "cell_type": "code",
   "execution_count": 2,
   "metadata": {},
   "outputs": [
    {
     "name": "stdout",
     "output_type": "stream",
     "text": [
      "Taxon IDs: {'francolins': 343747, 'owls': 19350, 'columbidae': 2715, 'corvus capensis': 8006, 'equus asinus': 148030, 'eupodotis rueppellii': 1505960, 'lepus capensis': 57560, 'mellivora capensis': 41834, 'numididae': 1426, 'oreotragus oreotragus': 42383, 'otocyon megalotis': 42095, 'procavia capensis': 43086, 'pronolagus randensis': 43159, 'tragelaphus strepsiceros': 42339, 'vulpes chama': 42055, 'papio anubis': 74832, 'raphicerus campestris': 42375}\n",
      "Anzahl IDs: 17\n"
     ]
    }
   ],
   "source": [
    "species_list = [\n",
    "     \"francolins\", \"owls\", \"columbidae\", \"corvus capensis\",\n",
    "    \"equus asinus\", \"eupodotis rueppellii\", \"lepus capensis\", \"mellivora capensis\",\n",
    "    \"numididae\", \"oreotragus oreotragus\", \"otocyon megalotis\", \"procavia capensis\",\n",
    "    \"pronolagus randensis\", \"tragelaphus strepsiceros\", \"vulpes chama\", \"papio anubis\", \"raphicerus campestris\"\n",
    "]\n",
    "\n",
    "taxon_ids = {}\n",
    "\n",
    "for species in species_list:\n",
    "    url = f\"https://api.inaturalist.org/v1/taxa?q={species}\"\n",
    "    response = requests.get(url)\n",
    "    \n",
    "    if response.status_code == 200:\n",
    "        data = response.json()\n",
    "        if data[\"results\"]:\n",
    "            taxon_id = data[\"results\"][0][\"id\"]\n",
    "            taxon_ids[species] = taxon_id\n",
    "        else:\n",
    "            print(f\"No taxon ID found for {species}\")\n",
    "\n",
    "print(\"Taxon IDs:\", taxon_ids)\n",
    "print(\"Anzahl IDs:\", taxon_ids.__len__())"
   ]
  },
  {
   "cell_type": "code",
   "execution_count": 8,
   "metadata": {},
   "outputs": [
    {
     "name": "stdout",
     "output_type": "stream",
     "text": [
      "\n",
      "🔍 Scraping papio anubis (ID: 74832)...\n",
      "📸 192 Bilder gefunden, starte Download...\n"
     ]
    },
    {
     "name": "stderr",
     "output_type": "stream",
     "text": [
      "📥 papio anubis:  62%|██████▏   | 119/192 [00:52<00:30,  2.36it/s]"
     ]
    },
    {
     "name": "stdout",
     "output_type": "stream",
     "text": [
      "❌ Fehler beim Speichern von https://inaturalist-open-data.s3.amazonaws.com/photos/470087459/square.png: cannot write mode RGBA as JPEG\n"
     ]
    },
    {
     "name": "stderr",
     "output_type": "stream",
     "text": [
      "📥 papio anubis: 100%|██████████| 192/192 [01:26<00:00,  2.23it/s]\n"
     ]
    },
    {
     "name": "stdout",
     "output_type": "stream",
     "text": [
      "\n",
      "🔍 Scraping raphicerus campestris (ID: 42375)...\n",
      "📸 199 Bilder gefunden, starte Download...\n"
     ]
    },
    {
     "name": "stderr",
     "output_type": "stream",
     "text": [
      "📥 raphicerus campestris:  36%|███▌      | 71/199 [00:31<00:56,  2.25it/s]"
     ]
    },
    {
     "name": "stdout",
     "output_type": "stream",
     "text": [
      "❌ Fehler beim Speichern von https://inaturalist-open-data.s3.amazonaws.com/photos/469117068/square.png: cannot write mode RGBA as JPEG\n"
     ]
    },
    {
     "name": "stderr",
     "output_type": "stream",
     "text": [
      "📥 raphicerus campestris: 100%|██████████| 199/199 [01:29<00:00,  2.23it/s]"
     ]
    },
    {
     "name": "stdout",
     "output_type": "stream",
     "text": [
      "\n",
      "✅ Alle Bilder wurden erfolgreich heruntergeladen!\n"
     ]
    },
    {
     "name": "stderr",
     "output_type": "stream",
     "text": [
      "\n"
     ]
    }
   ],
   "source": [
    "# Funktion zum Abrufen und Speichern der Bilder\n",
    "def download_images():\n",
    "    for species, taxon_id in taxon_ids.items():\n",
    "        print(f\"\\n🔍 Scraping {species} (ID: {taxon_id})...\")\n",
    "        save_dir = os.path.join(\"inat_images\", species.replace(\" \", \"_\"))\n",
    "        os.makedirs(save_dir, exist_ok=True)  \n",
    "        \n",
    "        url = \"https://api.inaturalist.org/v1/observations\"\n",
    "        params = {\n",
    "            \"taxon_id\": taxon_id,\n",
    "            \"per_page\": 200,  # Maximal 200 Bilder pro Anfrage\n",
    "            \"order\": \"desc\",\n",
    "            \"order_by\": \"created_at\",\n",
    "            \"captive\": \"false\"  # NUR WILDE TIERE\n",
    "        }\n",
    "\n",
    "        response = requests.get(url, params=params)\n",
    "        if response.status_code == 200:\n",
    "            data = response.json()\n",
    "            images = [obs[\"photos\"][0][\"url\"] for obs in data[\"results\"] if \"photos\" in obs and obs[\"photos\"]]\n",
    "\n",
    "            if not images:\n",
    "                print(f\"⚠️ Keine Bilder für {species} gefunden.\")\n",
    "                continue\n",
    "\n",
    "            print(f\"📸 {len(images)} Bilder gefunden, starte Download...\")\n",
    "\n",
    "            for i, img_url in tqdm(enumerate(images), total=len(images), desc=f\"📥 {species}\"):\n",
    "                try:\n",
    "                    img_data = requests.get(img_url).content\n",
    "                    img = Image.open(BytesIO(img_data))\n",
    "                    img.save(os.path.join(save_dir, f\"{species}_{i+1}.jpg\"))\n",
    "                except Exception as e:\n",
    "                    print(f\"❌ Fehler beim Speichern von {img_url}: {e}\")\n",
    "\n",
    "# Starte den Bild-Download\n",
    "download_images()\n",
    "print(\"\\n✅ Alle Bilder wurden erfolgreich heruntergeladen!\")"
   ]
  },
  {
   "cell_type": "code",
   "execution_count": 9,
   "metadata": {},
   "outputs": [
    {
     "data": {
      "text/html": [
       "<div>\n",
       "<style scoped>\n",
       "    .dataframe tbody tr th:only-of-type {\n",
       "        vertical-align: middle;\n",
       "    }\n",
       "\n",
       "    .dataframe tbody tr th {\n",
       "        vertical-align: top;\n",
       "    }\n",
       "\n",
       "    .dataframe thead th {\n",
       "        text-align: right;\n",
       "    }\n",
       "</style>\n",
       "<table border=\"1\" class=\"dataframe\">\n",
       "  <thead>\n",
       "    <tr style=\"text-align: right;\">\n",
       "      <th></th>\n",
       "      <th>species</th>\n",
       "      <th>taxon_id</th>\n",
       "      <th>observation_id</th>\n",
       "      <th>user</th>\n",
       "      <th>date</th>\n",
       "      <th>location</th>\n",
       "      <th>image</th>\n",
       "    </tr>\n",
       "  </thead>\n",
       "  <tbody>\n",
       "    <tr>\n",
       "      <th>0</th>\n",
       "      <td>aves</td>\n",
       "      <td>3</td>\n",
       "      <td>265056703</td>\n",
       "      <td>vladimir_teplouhov</td>\n",
       "      <td>2025-03-12</td>\n",
       "      <td>56.9524564201,72.640564218</td>\n",
       "      <td>https://inaturalist-open-data.s3.amazonaws.com...</td>\n",
       "    </tr>\n",
       "    <tr>\n",
       "      <th>1</th>\n",
       "      <td>aves</td>\n",
       "      <td>3</td>\n",
       "      <td>265056702</td>\n",
       "      <td>feralbeetle</td>\n",
       "      <td>2025-03-12</td>\n",
       "      <td>42.2900979733,-71.1880051252</td>\n",
       "      <td>None</td>\n",
       "    </tr>\n",
       "    <tr>\n",
       "      <th>2</th>\n",
       "      <td>aves</td>\n",
       "      <td>3</td>\n",
       "      <td>265056696</td>\n",
       "      <td>ludgera</td>\n",
       "      <td>2025-03-12</td>\n",
       "      <td>49.0860588455,12.8714757598</td>\n",
       "      <td>None</td>\n",
       "    </tr>\n",
       "    <tr>\n",
       "      <th>3</th>\n",
       "      <td>aves</td>\n",
       "      <td>3</td>\n",
       "      <td>265056687</td>\n",
       "      <td>cornerautenbach</td>\n",
       "      <td>2021-02-12</td>\n",
       "      <td>-27.0287292,32.7872342</td>\n",
       "      <td>https://inaturalist-open-data.s3.amazonaws.com...</td>\n",
       "    </tr>\n",
       "    <tr>\n",
       "      <th>4</th>\n",
       "      <td>aves</td>\n",
       "      <td>3</td>\n",
       "      <td>265056681</td>\n",
       "      <td>noahwoaha</td>\n",
       "      <td>2025-03-11</td>\n",
       "      <td>-12.8301606526,-69.4791064784</td>\n",
       "      <td>https://inaturalist-open-data.s3.amazonaws.com...</td>\n",
       "    </tr>\n",
       "  </tbody>\n",
       "</table>\n",
       "</div>"
      ],
      "text/plain": [
       "  species  taxon_id  observation_id                user        date  \\\n",
       "0    aves         3       265056703  vladimir_teplouhov  2025-03-12   \n",
       "1    aves         3       265056702         feralbeetle  2025-03-12   \n",
       "2    aves         3       265056696             ludgera  2025-03-12   \n",
       "3    aves         3       265056687     cornerautenbach  2021-02-12   \n",
       "4    aves         3       265056681           noahwoaha  2025-03-11   \n",
       "\n",
       "                        location  \\\n",
       "0     56.9524564201,72.640564218   \n",
       "1   42.2900979733,-71.1880051252   \n",
       "2    49.0860588455,12.8714757598   \n",
       "3         -27.0287292,32.7872342   \n",
       "4  -12.8301606526,-69.4791064784   \n",
       "\n",
       "                                               image  \n",
       "0  https://inaturalist-open-data.s3.amazonaws.com...  \n",
       "1                                               None  \n",
       "2                                               None  \n",
       "3  https://inaturalist-open-data.s3.amazonaws.com...  \n",
       "4  https://inaturalist-open-data.s3.amazonaws.com...  "
      ]
     },
     "execution_count": 9,
     "metadata": {},
     "output_type": "execute_result"
    }
   ],
   "source": [
    "observations = []\n",
    "\n",
    "for species, taxon_id in taxon_ids.items():\n",
    "    url = \"https://api.inaturalist.org/v1/observations\"\n",
    "    params = {\n",
    "        \"taxon_id\": taxon_id,\n",
    "        \"per_page\": 10,  # Number of observations per request\n",
    "        \"order\": \"desc\",\n",
    "        \"order_by\": \"created_at\"\n",
    "    }\n",
    "    \n",
    "    response = requests.get(url, params=params)\n",
    "    \n",
    "    if response.status_code == 200:\n",
    "        data = response.json()\n",
    "        for obs in data[\"results\"]:\n",
    "            observations.append({\n",
    "                \"species\": species,\n",
    "                \"taxon_id\": taxon_id,\n",
    "                \"observation_id\": obs[\"id\"],\n",
    "                \"user\": obs[\"user\"][\"login\"],\n",
    "                \"date\": obs[\"observed_on\"],\n",
    "                \"location\": obs[\"location\"],\n",
    "                \"image\": obs[\"photos\"][0][\"url\"] if obs[\"photos\"] else None\n",
    "            })\n",
    "\n",
    "# Display results\n",
    "df = pd.DataFrame(observations)\n",
    "\n",
    "df.head()"
   ]
  },
  {
   "cell_type": "code",
   "execution_count": 10,
   "metadata": {},
   "outputs": [
    {
     "data": {
      "text/plain": [
       "'https://inaturalist-open-data.s3.amazonaws.com/photos/476031305/square.jpeg'"
      ]
     },
     "execution_count": 10,
     "metadata": {},
     "output_type": "execute_result"
    }
   ],
   "source": [
    "df['image'][0]"
   ]
  },
  {
   "cell_type": "code",
   "execution_count": null,
   "metadata": {},
   "outputs": [],
   "source": [
    "# Pfade\n",
    "inat_path = \"inat_images\"\n",
    "dataset_path = \"balanced_dataset_split/train\"\n",
    "\n",
    "# Mapping von iNaturalist-Namen (links) zu den lateinischen Namen in deinem Datensatz (rechts)\n",
    "class_mapping = {\n",
    "    \"columbidae\": \"columbidae\",\n",
    "    \"owls\": \"cn-owls\",  # Korrektur: iNaturalist-Name ist \"cn-owls\"\n",
    "    \"francolins\": \"cn-francolins\",  # Korrektur: iNaturalist-Name ist \"cn-francolins\"\n",
    "    \"corvus capensis\": \"corvus_capensis\",\n",
    "    \"equus asinus\": \"equus_asinus\",\n",
    "    \"eupodotis rueppellii\": \"eupodotis_rueppellii\",\n",
    "    \"lepus capensis\": \"lepus_capensis\",\n",
    "    \"mellivora capensis\": \"mellivora_capensis\",\n",
    "    \"numididae\": \"numididae\",\n",
    "    \"oreotragus oreotragus\": \"oreotragus_oreotragus\",\n",
    "    \"otocyon megalotis\": \"otocyon_megalotis\",\n",
    "    \"procavia capensis\": \"procavia_capensis\",\n",
    "    \"pronolagus randensis\": \"pronolagus_randensis\",\n",
    "    \"tragelaphus strepsiceros\": \"tragelaphus_strepsiceros\",\n",
    "    \"vulpes chama\": \"vulpes_chama\",\n",
    "}"
   ]
  },
  {
   "cell_type": "code",
   "execution_count": 3,
   "metadata": {},
   "outputs": [
    {
     "name": "stdout",
     "output_type": "stream",
     "text": [
      "Klasse 'cn-francolins': 196 Bilder\n",
      "Klasse 'cn-owls': 180 Bilder\n",
      "Klasse 'columbidae': 183 Bilder\n",
      "Klasse 'corvus_capensis': 196 Bilder\n",
      "Klasse 'equus_asinus': 197 Bilder\n",
      "Klasse 'eupodotis_rueppellii': 200 Bilder\n",
      "Klasse 'lepus_capensis': 189 Bilder\n",
      "Klasse 'mellivora_capensis': 197 Bilder\n",
      "Klasse 'numididae': 195 Bilder\n",
      "Klasse 'oreotragus_oreotragus': 197 Bilder\n",
      "Klasse 'otocyon_megalotis': 192 Bilder\n",
      "Klasse 'papio_anubis': 191 Bilder\n",
      "Klasse 'procavia_capensis': 195 Bilder\n",
      "Klasse 'pronolagus_randensis': 62 Bilder\n",
      "Klasse 'raphiceros_campestris': 198 Bilder\n",
      "Klasse 'tragelaphus_strepsiceros': 200 Bilder\n",
      "Klasse 'vulpes_chama': 191 Bilder\n"
     ]
    }
   ],
   "source": [
    "inat_path = \"inat_images\"\n",
    "\n",
    "# Dictionary, um die Anzahl der Bilder pro Klasse zu speichern\n",
    "class_counts = {}\n",
    "\n",
    "# Iteriere über alle Unterordner (Klassen)\n",
    "for class_name in os.listdir(inat_path):\n",
    "    class_folder = os.path.join(inat_path, class_name)\n",
    "    \n",
    "    # Überprüfen, ob es wirklich ein Ordner ist\n",
    "    if os.path.isdir(class_folder):\n",
    "        # Liste alle Dateien im Ordner und filtere nur Bilddateien\n",
    "        images = [file for file in os.listdir(class_folder) if file.lower().endswith(('.png', '.jpg', '.jpeg'))]\n",
    "        class_counts[class_name] = len(images)\n",
    "\n",
    "# Ausgabe\n",
    "for class_name, count in class_counts.items():\n",
    "    print(f\"Klasse '{class_name}': {count} Bilder\")"
   ]
  },
  {
   "cell_type": "code",
   "execution_count": 4,
   "metadata": {},
   "outputs": [
    {
     "name": "stdout",
     "output_type": "stream",
     "text": [
      "\n",
      "Insgesamt 3159 Bilder in 17 Klassen gefunden.\n"
     ]
    }
   ],
   "source": [
    "# Anzahl Bilder insgesamt\n",
    "total_images = sum(class_counts.values())\n",
    "print(f\"\\nInsgesamt {total_images} Bilder in {len(class_counts)} Klassen gefunden.\")"
   ]
  },
  {
   "cell_type": "code",
   "execution_count": null,
   "metadata": {},
   "outputs": [],
   "source": []
  }
 ],
 "metadata": {
  "kernelspec": {
   "display_name": "tf-env",
   "language": "python",
   "name": "python3"
  },
  "language_info": {
   "codemirror_mode": {
    "name": "ipython",
    "version": 3
   },
   "file_extension": ".py",
   "mimetype": "text/x-python",
   "name": "python",
   "nbconvert_exporter": "python",
   "pygments_lexer": "ipython3",
   "version": "3.10.11"
  }
 },
 "nbformat": 4,
 "nbformat_minor": 2
}
